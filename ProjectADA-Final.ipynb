{
 "cells": [
  {
   "cell_type": "markdown",
   "metadata": {},
   "source": [
    "# Project ADA Final notebook"
   ]
  },
  {
   "cell_type": "markdown",
   "metadata": {},
   "source": [
    "### [Fast start](#second start) (Skips the cleaning part)"
   ]
  },
  {
   "cell_type": "markdown",
   "metadata": {},
   "source": [
    "**Importing libraries**"
   ]
  },
  {
   "cell_type": "markdown",
   "metadata": {},
   "source": [
    "We mainly used `Pandas` in order to do exploratory analysis. For mathematical operations, and arrays, we used `NumPy`. For plotting we used `Matplotlib` and `Seaborn`, and finally for the cleaning part with the country names, the packagings and the labels to translate, we used `PyCountry`, `gettext`, `translate` and `re`."
   ]
  },
  {
   "cell_type": "code",
   "execution_count": 1,
   "metadata": {},
   "outputs": [],
   "source": [
    "import pandas as pd\n",
    "import numpy as np\n",
    "import matplotlib.pyplot as plt\n",
    "import seaborn as sns\n",
    "import pycountry as pc\n",
    "import gettext as gt\n",
    "import re\n",
    "from translate import Translator"
   ]
  },
  {
   "cell_type": "markdown",
   "metadata": {},
   "source": [
    "## Loading and first exploration"
   ]
  },
  {
   "cell_type": "markdown",
   "metadata": {},
   "source": [
    "**Loading the dataset**"
   ]
  },
  {
   "cell_type": "code",
   "execution_count": 2,
   "metadata": {},
   "outputs": [],
   "source": [
    "DATA_FOLDER = 'data/'"
   ]
  },
  {
   "cell_type": "code",
   "execution_count": 3,
   "metadata": {},
   "outputs": [],
   "source": [
    "df = pd.read_csv(DATA_FOLDER + 'en.openfoodfacts.org.products.csv', sep=\"\\t\", encoding=\"utf-8\", low_memory=False)"
   ]
  },
  {
   "cell_type": "code",
   "execution_count": 4,
   "metadata": {},
   "outputs": [
    {
     "data": {
      "text/html": [
       "<div>\n",
       "<style scoped>\n",
       "    .dataframe tbody tr th:only-of-type {\n",
       "        vertical-align: middle;\n",
       "    }\n",
       "\n",
       "    .dataframe tbody tr th {\n",
       "        vertical-align: top;\n",
       "    }\n",
       "\n",
       "    .dataframe thead th {\n",
       "        text-align: right;\n",
       "    }\n",
       "</style>\n",
       "<table border=\"1\" class=\"dataframe\">\n",
       "  <thead>\n",
       "    <tr style=\"text-align: right;\">\n",
       "      <th></th>\n",
       "      <th>code</th>\n",
       "      <th>url</th>\n",
       "      <th>creator</th>\n",
       "      <th>created_t</th>\n",
       "      <th>created_datetime</th>\n",
       "      <th>last_modified_t</th>\n",
       "      <th>last_modified_datetime</th>\n",
       "      <th>product_name</th>\n",
       "      <th>generic_name</th>\n",
       "      <th>quantity</th>\n",
       "      <th>...</th>\n",
       "      <th>carbon-footprint_100g</th>\n",
       "      <th>nutrition-score-fr_100g</th>\n",
       "      <th>nutrition-score-uk_100g</th>\n",
       "      <th>glycemic-index_100g</th>\n",
       "      <th>water-hardness_100g</th>\n",
       "      <th>choline_100g</th>\n",
       "      <th>phylloquinone_100g</th>\n",
       "      <th>beta-glucan_100g</th>\n",
       "      <th>inositol_100g</th>\n",
       "      <th>carnitine_100g</th>\n",
       "    </tr>\n",
       "  </thead>\n",
       "  <tbody>\n",
       "    <tr>\n",
       "      <th>0</th>\n",
       "      <td>0000000000017</td>\n",
       "      <td>http://world-en.openfoodfacts.org/product/0000...</td>\n",
       "      <td>kiliweb</td>\n",
       "      <td>1529059080</td>\n",
       "      <td>2018-06-15T10:38:00Z</td>\n",
       "      <td>1529059204</td>\n",
       "      <td>2018-06-15T10:40:04Z</td>\n",
       "      <td>Vitória crackers</td>\n",
       "      <td>NaN</td>\n",
       "      <td>NaN</td>\n",
       "      <td>...</td>\n",
       "      <td>NaN</td>\n",
       "      <td>NaN</td>\n",
       "      <td>NaN</td>\n",
       "      <td>NaN</td>\n",
       "      <td>NaN</td>\n",
       "      <td>NaN</td>\n",
       "      <td>NaN</td>\n",
       "      <td>NaN</td>\n",
       "      <td>NaN</td>\n",
       "      <td>NaN</td>\n",
       "    </tr>\n",
       "    <tr>\n",
       "      <th>1</th>\n",
       "      <td>0000000000031</td>\n",
       "      <td>http://world-en.openfoodfacts.org/product/0000...</td>\n",
       "      <td>isagoofy</td>\n",
       "      <td>1539464774</td>\n",
       "      <td>2018-10-13T21:06:14Z</td>\n",
       "      <td>1539464817</td>\n",
       "      <td>2018-10-13T21:06:57Z</td>\n",
       "      <td>Cacao</td>\n",
       "      <td>NaN</td>\n",
       "      <td>130 g</td>\n",
       "      <td>...</td>\n",
       "      <td>NaN</td>\n",
       "      <td>NaN</td>\n",
       "      <td>NaN</td>\n",
       "      <td>NaN</td>\n",
       "      <td>NaN</td>\n",
       "      <td>NaN</td>\n",
       "      <td>NaN</td>\n",
       "      <td>NaN</td>\n",
       "      <td>NaN</td>\n",
       "      <td>NaN</td>\n",
       "    </tr>\n",
       "    <tr>\n",
       "      <th>2</th>\n",
       "      <td>0000000000123</td>\n",
       "      <td>http://world-en.openfoodfacts.org/product/0000...</td>\n",
       "      <td>kiliweb</td>\n",
       "      <td>1535737982</td>\n",
       "      <td>2018-08-31T17:53:02Z</td>\n",
       "      <td>1535737986</td>\n",
       "      <td>2018-08-31T17:53:06Z</td>\n",
       "      <td>Sauce Sweety chili 0%</td>\n",
       "      <td>NaN</td>\n",
       "      <td>NaN</td>\n",
       "      <td>...</td>\n",
       "      <td>NaN</td>\n",
       "      <td>NaN</td>\n",
       "      <td>NaN</td>\n",
       "      <td>NaN</td>\n",
       "      <td>NaN</td>\n",
       "      <td>NaN</td>\n",
       "      <td>NaN</td>\n",
       "      <td>NaN</td>\n",
       "      <td>NaN</td>\n",
       "      <td>NaN</td>\n",
       "    </tr>\n",
       "    <tr>\n",
       "      <th>3</th>\n",
       "      <td>0000000000178</td>\n",
       "      <td>http://world-en.openfoodfacts.org/product/0000...</td>\n",
       "      <td>kiliweb</td>\n",
       "      <td>1542456332</td>\n",
       "      <td>2018-11-17T12:05:32Z</td>\n",
       "      <td>1542456333</td>\n",
       "      <td>2018-11-17T12:05:33Z</td>\n",
       "      <td>Mini coco</td>\n",
       "      <td>NaN</td>\n",
       "      <td>NaN</td>\n",
       "      <td>...</td>\n",
       "      <td>NaN</td>\n",
       "      <td>NaN</td>\n",
       "      <td>NaN</td>\n",
       "      <td>NaN</td>\n",
       "      <td>NaN</td>\n",
       "      <td>NaN</td>\n",
       "      <td>NaN</td>\n",
       "      <td>NaN</td>\n",
       "      <td>NaN</td>\n",
       "      <td>NaN</td>\n",
       "    </tr>\n",
       "    <tr>\n",
       "      <th>4</th>\n",
       "      <td>0000000000291</td>\n",
       "      <td>http://world-en.openfoodfacts.org/product/0000...</td>\n",
       "      <td>kiliweb</td>\n",
       "      <td>1534239669</td>\n",
       "      <td>2018-08-14T09:41:09Z</td>\n",
       "      <td>1534239732</td>\n",
       "      <td>2018-08-14T09:42:12Z</td>\n",
       "      <td>Mendiants</td>\n",
       "      <td>NaN</td>\n",
       "      <td>NaN</td>\n",
       "      <td>...</td>\n",
       "      <td>NaN</td>\n",
       "      <td>NaN</td>\n",
       "      <td>NaN</td>\n",
       "      <td>NaN</td>\n",
       "      <td>NaN</td>\n",
       "      <td>NaN</td>\n",
       "      <td>NaN</td>\n",
       "      <td>NaN</td>\n",
       "      <td>NaN</td>\n",
       "      <td>NaN</td>\n",
       "    </tr>\n",
       "  </tbody>\n",
       "</table>\n",
       "<p>5 rows × 173 columns</p>\n",
       "</div>"
      ],
      "text/plain": [
       "            code                                                url   creator  \\\n",
       "0  0000000000017  http://world-en.openfoodfacts.org/product/0000...   kiliweb   \n",
       "1  0000000000031  http://world-en.openfoodfacts.org/product/0000...  isagoofy   \n",
       "2  0000000000123  http://world-en.openfoodfacts.org/product/0000...   kiliweb   \n",
       "3  0000000000178  http://world-en.openfoodfacts.org/product/0000...   kiliweb   \n",
       "4  0000000000291  http://world-en.openfoodfacts.org/product/0000...   kiliweb   \n",
       "\n",
       "    created_t      created_datetime last_modified_t last_modified_datetime  \\\n",
       "0  1529059080  2018-06-15T10:38:00Z      1529059204   2018-06-15T10:40:04Z   \n",
       "1  1539464774  2018-10-13T21:06:14Z      1539464817   2018-10-13T21:06:57Z   \n",
       "2  1535737982  2018-08-31T17:53:02Z      1535737986   2018-08-31T17:53:06Z   \n",
       "3  1542456332  2018-11-17T12:05:32Z      1542456333   2018-11-17T12:05:33Z   \n",
       "4  1534239669  2018-08-14T09:41:09Z      1534239732   2018-08-14T09:42:12Z   \n",
       "\n",
       "            product_name generic_name quantity      ...        \\\n",
       "0       Vitória crackers          NaN      NaN      ...         \n",
       "1                  Cacao          NaN    130 g      ...         \n",
       "2  Sauce Sweety chili 0%          NaN      NaN      ...         \n",
       "3              Mini coco          NaN      NaN      ...         \n",
       "4              Mendiants          NaN      NaN      ...         \n",
       "\n",
       "  carbon-footprint_100g nutrition-score-fr_100g nutrition-score-uk_100g  \\\n",
       "0                   NaN                     NaN                     NaN   \n",
       "1                   NaN                     NaN                     NaN   \n",
       "2                   NaN                     NaN                     NaN   \n",
       "3                   NaN                     NaN                     NaN   \n",
       "4                   NaN                     NaN                     NaN   \n",
       "\n",
       "  glycemic-index_100g water-hardness_100g choline_100g phylloquinone_100g  \\\n",
       "0                 NaN                 NaN          NaN                NaN   \n",
       "1                 NaN                 NaN          NaN                NaN   \n",
       "2                 NaN                 NaN          NaN                NaN   \n",
       "3                 NaN                 NaN          NaN                NaN   \n",
       "4                 NaN                 NaN          NaN                NaN   \n",
       "\n",
       "  beta-glucan_100g inositol_100g carnitine_100g  \n",
       "0              NaN           NaN            NaN  \n",
       "1              NaN           NaN            NaN  \n",
       "2              NaN           NaN            NaN  \n",
       "3              NaN           NaN            NaN  \n",
       "4              NaN           NaN            NaN  \n",
       "\n",
       "[5 rows x 173 columns]"
      ]
     },
     "execution_count": 4,
     "metadata": {},
     "output_type": "execute_result"
    }
   ],
   "source": [
    "df.head()"
   ]
  },
  {
   "cell_type": "markdown",
   "metadata": {},
   "source": [
    "We see from here that there is a lot of information, and it seems that there is a lot of NaN values for certain columns."
   ]
  },
  {
   "cell_type": "markdown",
   "metadata": {},
   "source": [
    "More precisely, we can compute the number of columns in the dataframe:"
   ]
  },
  {
   "cell_type": "code",
   "execution_count": 5,
   "metadata": {},
   "outputs": [
    {
     "name": "stdout",
     "output_type": "stream",
     "text": [
      "Number of columns in the DataFrame: 173\n"
     ]
    }
   ],
   "source": [
    "print('Number of columns in the DataFrame:', df.columns.size)"
   ]
  },
  {
   "cell_type": "markdown",
   "metadata": {},
   "source": [
    "There are many features, but we definitely won't work with all of them for the purpose of this project."
   ]
  },
  {
   "cell_type": "markdown",
   "metadata": {},
   "source": [
    "As we explore the dataset, we will only keep a few columns from all those we have at our disposal."
   ]
  },
  {
   "cell_type": "markdown",
   "metadata": {},
   "source": [
    "**NaN proportion for each column**"
   ]
  },
  {
   "cell_type": "markdown",
   "metadata": {},
   "source": [
    "As mentioned earlier, it looks like there are many NaN values. Let's see that. Here we compute the proportion of NaN values for each columns, and only plot the columns that have less than 50% of NaNs."
   ]
  },
  {
   "cell_type": "code",
   "execution_count": 6,
   "metadata": {},
   "outputs": [
    {
     "name": "stdout",
     "output_type": "stream",
     "text": [
      "Number of columns that have a proportion of NaN less than 50%:  30 / 173 columns.\n"
     ]
    },
    {
     "data": {
      "image/png": "[encoded data removed]",
      "text/plain": [
       "<Figure size 1080x360 with 1 Axes>"
      ]
     },
     "metadata": {},
     "output_type": "display_data"
    }
   ],
   "source": [
    "nan_proportion = df.isnull().mean(axis=0)\n",
    "nan_proportion_50 = nan_proportion[nan_proportion<0.5]\n",
    "print('Number of columns that have a proportion of NaN less than 50%: ', \n",
    "      nan_proportion_50.size, '/', df.columns.size, 'columns.')\n",
    "\n",
    "plt.figure(figsize=(15, 5))\n",
    "nan_proportion_50.plot(kind='bar', color='orange')\n",
    "plt.title('Proportion of NaN for different columns')\n",
    "\n",
    "plt.show()"
   ]
  },
  {
   "cell_type": "markdown",
   "metadata": {},
   "source": [
    "Quite surprising! Actually, only 30 columns are more than half filled on the 173 that we have at our disposal. This suggest that maybe we will need to review some of things we planned to do because of the missing values. Indeed, if a huge amount of values are missing, we won't get very precise insights about the data for these columns."
   ]
  },
  {
   "cell_type": "markdown",
   "metadata": {},
   "source": [
    "**Choosing the columns to keep**"
   ]
  },
  {
   "cell_type": "markdown",
   "metadata": {},
   "source": [
    "Now let's see with what columns we are going to work with. Of course, we keep the information about the products such as the name, brand, url. \n",
    "\n",
    "Then we also want to keep the information about the countries, since it was one of the main focus of the project.\n",
    "\n",
    "We will also keep all those related to the composition of the products (serving quantity, additives, fat, sugar, ...) as it will help us get insights about which country eats what."
   ]
  },
  {
   "cell_type": "code",
   "execution_count": 7,
   "metadata": {},
   "outputs": [],
   "source": [
    "# Columns that we keep for the exploratory analysis\n",
    "cols = ['product_name', 'url', 'brands_tags', 'countries_en', 'origins', 'serving_quantity', 'additives_n', \n",
    "        'fat_100g', 'carbohydrates_100g', 'sugars_100g', \n",
    "       'proteins_100g', 'salt_100g', 'labels', 'packaging']\n",
    "\n",
    "# Filter to only keep the columns we need\n",
    "df = df[cols]"
   ]
  },
  {
   "cell_type": "markdown",
   "metadata": {},
   "source": [
    "## Cleaning the dataset"
   ]
  },
  {
   "cell_type": "markdown",
   "metadata": {},
   "source": [
    "**Cleaning the countries columns**"
   ]
  },
  {
   "cell_type": "markdown",
   "metadata": {},
   "source": [
    "The columns `origins` and `countries_en` need a lot of cleaning to be usable later."
   ]
  },
  {
   "cell_type": "code",
   "execution_count": 8,
   "metadata": {},
   "outputs": [],
   "source": [
    "# Put everything in lowercase in order to have more consistency\n",
    "df['countries_en'] = df['countries_en'].str.lower() \n",
    "df['origins'] = df['origins'].str.lower()\n",
    "df['packaging'] = df['packaging'].str.lower()\n",
    "df['labels'] = df['labels'].str.lower()"
   ]
  },
  {
   "cell_type": "markdown",
   "metadata": {},
   "source": [
    "For outlier exploration, we defined a function to check wether the columns with countries are in the right format or not."
   ]
  },
  {
   "cell_type": "code",
   "execution_count": 9,
   "metadata": {},
   "outputs": [],
   "source": [
    "def countries_format_check(df, column):\n",
    "    \"\"\"Counts the number of occurences of some unexpected \n",
    "    types or values for entries in the specified column\n",
    "    \"\"\"\n",
    "    \n",
    "    counter_wrong_type = 0\n",
    "    counter_empty_string = 0\n",
    "    counter_nan = 0\n",
    "\n",
    "    for entry in df[column]:\n",
    "        if not(type(entry) is str):\n",
    "            counter_wrong_type += 1\n",
    "        elif entry == \"\":\n",
    "            counter_empty_string += 1\n",
    "            \n",
    "        if entry != entry: # entry is NaN <=> entry != entry\n",
    "            counter_nan += 1\n",
    "\n",
    "    print(\"%d values in \" %counter_wrong_type + column + \" are not of type 'str'\")\n",
    "    print(\"%d values in \" %counter_nan + column + \" are nan\")\n",
    "    print(\"%d values in \" %counter_empty_string + column + \" are empty strings\")"
   ]
  },
  {
   "cell_type": "code",
   "execution_count": 10,
   "metadata": {},
   "outputs": [
    {
     "name": "stdout",
     "output_type": "stream",
     "text": [
      "597 values in countries_en are not of type 'str'\n",
      "597 values in countries_en are nan\n",
      "0 values in countries_en are empty strings\n"
     ]
    }
   ],
   "source": [
    "countries_format_check(df, 'countries_en')"
   ]
  },
  {
   "cell_type": "markdown",
   "metadata": {},
   "source": [
    "As we can see, some entries in `countries_en` are actually not strings. Actually, these outliers are always NaN (so they have float type). Since this value is needed we can drop these samples."
   ]
  },
  {
   "cell_type": "code",
   "execution_count": 11,
   "metadata": {},
   "outputs": [
    {
     "name": "stdout",
     "output_type": "stream",
     "text": [
      "653706 values in origins are not of type 'str'\n",
      "653706 values in origins are nan\n",
      "0 values in origins are empty strings\n"
     ]
    }
   ],
   "source": [
    "countries_format_check(df, 'origins')"
   ]
  },
  {
   "cell_type": "markdown",
   "metadata": {},
   "source": [
    "In `origins`, it is even worse. We rarely even have anything else than a NaN. When we are interested in the origins of a product, we need to drop these outliers. Otherwise we need to keep them (or we would lose too much data)."
   ]
  },
  {
   "cell_type": "markdown",
   "metadata": {},
   "source": [
    "**Exploding the countries columns**"
   ]
  },
  {
   "cell_type": "code",
   "execution_count": 12,
   "metadata": {},
   "outputs": [],
   "source": [
    "def explode_dataframe(df, column, separator):\n",
    "    \"\"\" Duplicates the rows of the input DataFrame df, by splitting on 'separator' the string contained in 'column'\n",
    "        For example, when using this function on column C, with separator ',' on the following DataFrame\n",
    "            A  B  C\n",
    "        1   1  2  a,b\n",
    "        2   3  4  c,d,e\n",
    "    \n",
    "        We expect a return value like this:\n",
    "            A  B  C\n",
    "        1   1  2  a\n",
    "        1   1  2  b\n",
    "        2   3  4  c\n",
    "        2   3  4  d\n",
    "        2   3  4  e\n",
    "    \"\"\"\n",
    "    \n",
    "    # Helper function that duplicates a single 'row' and appends the result to 'rows'\n",
    "    def explode_row(row, rows):\n",
    "        splitted_string = row[column].split(separator)\n",
    "        for s in splitted_string:\n",
    "            new_row = row.to_dict()\n",
    "            new_row[column] = s\n",
    "            rows.append(new_row)\n",
    "    \n",
    "    rows = []\n",
    "    df.apply(lambda row : explode_row(row, rows), axis=1)\n",
    "\n",
    "    new_df = pd.DataFrame(rows)\n",
    "    return new_df"
   ]
  },
  {
   "cell_type": "markdown",
   "metadata": {},
   "source": [
    "First, we split `countries_en` and `origins`, since they may contain more than one country."
   ]
  },
  {
   "cell_type": "code",
   "execution_count": 13,
   "metadata": {},
   "outputs": [
    {
     "name": "stdout",
     "output_type": "stream",
     "text": [
      "New shape of our DataFrame: (727877, 14)\n"
     ]
    }
   ],
   "source": [
    "df_with_countries = explode_dataframe(df.dropna(subset=['countries_en']), 'countries_en', ',')\n",
    "print('New shape of our DataFrame:', df_with_countries.shape)"
   ]
  },
  {
   "cell_type": "markdown",
   "metadata": {},
   "source": [
    "As we can see, we end up with quite a lot more data when splitting to get all the countries separated."
   ]
  },
  {
   "cell_type": "code",
   "execution_count": 14,
   "metadata": {},
   "outputs": [
    {
     "name": "stdout",
     "output_type": "stream",
     "text": [
      "Shape of the DataFrame with the origins: (62187, 14)\n"
     ]
    }
   ],
   "source": [
    "df_with_origins = explode_dataframe(df_with_countries.dropna(subset=['origins']), 'origins', ',')\n",
    "print('Shape of the DataFrame with the origins:', df_with_origins.shape)"
   ]
  },
  {
   "cell_type": "markdown",
   "metadata": {},
   "source": [
    "But due to the number of NaN values in `origins`, we have a lot less data in `df_with origins`. Now we'll either use `df_with_origins` when we need the origins, or df when we don't need the origins. Thus we can drop `origins` in `df`."
   ]
  },
  {
   "cell_type": "code",
   "execution_count": 15,
   "metadata": {},
   "outputs": [],
   "source": [
    "df_with_countries = df_with_countries.drop(['origins'], axis=1)\n",
    "df = df.drop(['countries_en', 'origins'], axis=1)"
   ]
  },
  {
   "cell_type": "markdown",
   "metadata": {},
   "source": [
    "**Formatting the countries columns**"
   ]
  },
  {
   "cell_type": "markdown",
   "metadata": {},
   "source": [
    "Now the main issue is that the format of these strings is not consistent at all. Some country names are written in french, some are in english, etc... Even in `countries_en` (where everything is supposed to be written in english, some entries are in french or in some other language, or even some kind of code). In `origins` it's even more frequently in some other language than english. Also some are very specific (country + region + county for example), and we will not be interested in so much spatial detail. We also still have outliers from which we cannot retrieve the country it corresponds to (like strings that do not even contain any spatial information)."
   ]
  },
  {
   "cell_type": "markdown",
   "metadata": {},
   "source": [
    "First we load the main used languages that we will translate from. That choice is based on a previous result where we have got an idea of the countries of the products. We then have chosen the 12 top languages in those results. English is not in the list because we will translate from it."
   ]
  },
  {
   "cell_type": "code",
   "execution_count": 39,
   "metadata": {},
   "outputs": [],
   "source": [
    "languages = ['french', 'german', 'spanish', 'italian', 'dutch', 'russian', 'swedish',\n",
    "             'portuguese', 'danish', 'romanian', 'hungarian']"
   ]
  },
  {
   "cell_type": "code",
   "execution_count": 40,
   "metadata": {},
   "outputs": [],
   "source": [
    "country_translations = []\n",
    "for language in languages:\n",
    "    country_translations.append(gt.translation('iso3166', pc.LOCALES_DIR, languages=[language]))"
   ]
  },
  {
   "cell_type": "markdown",
   "metadata": {},
   "source": [
    "Now we need to be able to read the countries lists from PyCountry. We defined 4 functions for that."
   ]
  },
  {
   "cell_type": "code",
   "execution_count": 41,
   "metadata": {},
   "outputs": [],
   "source": [
    "# Read the country names in english\n",
    "def read_country_names_en():\n",
    "    country_names = []\n",
    "    for country in pc.countries:\n",
    "        country_names.append(country.name.lower())\n",
    "    return country_names\n",
    "\n",
    "# Read the country names translated in another language\n",
    "def read_country_names_translated(language):\n",
    "    country_names = []\n",
    "    for country in pc.countries:\n",
    "        country_names.append(language.gettext(country.name).lower())\n",
    "    return country_names\n",
    "\n",
    "# Read the country alpha2 codes\n",
    "def read_country_alpha2s():\n",
    "    country_names = []\n",
    "    for country in pc.countries:\n",
    "        country_names.append(country.alpha_2.lower())\n",
    "    return country_names\n",
    "\n",
    "# Read the country alpha3 codes\n",
    "def read_country_alpha3s():\n",
    "    country_names = []\n",
    "    for country in pc.countries:\n",
    "        country_names.append(country.alpha_3.lower())\n",
    "    return country_names"
   ]
  },
  {
   "cell_type": "markdown",
   "metadata": {},
   "source": [
    "Now we can apply that to get a dictionary to translate the different country names or codes into the english country names. We also manually defined a dictionary for the strings with the most occurences that the other dictionaries could not translate (like regions of some countries, or country codes that are not the actual alpha2 code of the country it is supposed to represent)."
   ]
  },
  {
   "cell_type": "code",
   "execution_count": 43,
   "metadata": {},
   "outputs": [],
   "source": [
    "# Transform a list of keys and a list of values to a dictionary and add it to the dictionary list\n",
    "def append_dict(dicts_list, keys_list, values_list):\n",
    "    dicts_list.append(dict(zip(keys_list, values_list)))\n",
    "\n",
    "# Concats all the dictionaries to one single dictionary\n",
    "def concat_dicts(dicts_list):\n",
    "    total_dict = {}\n",
    "    for i in range(0, len(dicts_list)):\n",
    "        total_dict = {**total_dict, **dicts_list[i]}\n",
    "    return total_dict"
   ]
  },
  {
   "cell_type": "code",
   "execution_count": 44,
   "metadata": {},
   "outputs": [],
   "source": [
    "country_names_dicts = []\n",
    "countries_en = read_country_names_en() # Values to which the names will map (english version of the country names)\n",
    "\n",
    "append_dict(country_names_dicts, countries_en, countries_en)\n",
    "for translation in country_translations:\n",
    "    append_dict(country_names_dicts, read_country_names_translated(translation), countries_en)\n",
    "append_dict(country_names_dicts, read_country_alpha2s(), countries_en)\n",
    "append_dict(country_names_dicts, read_country_alpha3s(), countries_en)\n",
    "\n",
    "manual_dict = {\n",
    "'en' : 'united kingdom',\n",
    "'uk' : 'united kingdom',\n",
    "'czech republic' : 'czechia',\n",
    "'south korea' : 'korea, republic of',\n",
    "'eua' : 'united states',\n",
    "'e.u.a.' : 'united states',\n",
    "'palestine' : 'palestine, state of',\n",
    "'syria' : 'syrian arab republic',\n",
    "'bretagne' : 'france',\n",
    "'normandie' : 'france',\n",
    "'sud-ouest' : 'france',\n",
    "'lait origine france' : 'france',\n",
    "'ecosse' : 'united kingdom',\n",
    "'provence' : 'france',\n",
    "'equateur' : 'ecuador',\n",
    "'thailande' : 'thailand',\n",
    "'sud-ouest de la france' : 'france',\n",
    "'république dominicaine' : 'dominican republic',\n",
    "'ciudad de méxico' : 'mexico',\n",
    "'sicile' : 'italia',\n",
    "'écosse' : 'united kingdom',\n",
    "'camargue' : 'france',\n",
    "'bourgogne' : 'france',\n",
    "'corse' : 'france',\n",
    "'alsace' : 'france',\n",
    "' españa' : 'spain',\n",
    "'bolivie' : 'bolivia, plurinational state of',\n",
    "'porc origine france' : 'france',\n",
    "'fr:lait de france' : 'france',\n",
    "'pays de la loire' : 'france',\n",
    "'aquitaine' : 'france',\n",
    "'québec' : 'canada',\n",
    "'ardèche' : 'france',\n",
    "'andalucía' : 'spain',\n",
    "'agriculture france' : 'france',\n",
    "'angleterre' : 'united kingdom',\n",
    "'ile de la réunion' : 'france',\n",
    "'etats-unis' : 'united states',\n",
    "'val de loire' : 'france',\n",
    "'rhône-alpes' : 'france',\n",
    "'aveyron' : 'france',\n",
    "'auvergne' : 'france',\n",
    "'california' : 'united states',\n",
    "'franche-comté' : 'france',\n",
    "'savoie' : 'france',\n",
    "'russie' : 'russian federation',\n",
    "'alaska' : 'united states',\n",
    "'fr:deutschland' : 'germany',\n",
    "'ch:suisse' : 'switzerland',\n",
    "'loire-atlantique' : 'france',\n",
    "'de:allemagne' : 'germany',\n",
    "'fr:schweiz' : 'switzerland',\n",
    "'fr:frankreich' : 'france',\n",
    "'republic of macedonia' : 'macedonia, republic of',\n",
    "'fr:quebec' : 'canada',\n",
    "'fr:dom-tom' : 'france',\n",
    "'democratic republic of the congo' : 'congo, the democratic republic of the',\n",
    "'republic of the congo' : 'congo, the democratic republic of the'}\n",
    "country_names_dicts.append(manual_dict)\n",
    "        \n",
    "countries_dictionary = concat_dicts(country_names_dicts)"
   ]
  },
  {
   "cell_type": "markdown",
   "metadata": {},
   "source": [
    "We can now easily define an efficient function that translates a country to the english name."
   ]
  },
  {
   "cell_type": "code",
   "execution_count": 45,
   "metadata": {},
   "outputs": [],
   "source": [
    "# Translate the parameter 'word' to its english name, or NaN if it is not found in the dictionary.\n",
    "def translate(word, dictionary):\n",
    "    return dictionary.get(word, np.NaN)\n",
    "\n",
    "# Translate a whole column of a DataFrame with a dictionary.\n",
    "def translate_column(df, column, dictionary):\n",
    "    # Translate every word in the column\n",
    "    df[column] = df[column].map(lambda word : translate(word, dictionary))\n",
    "    # Get rid of the new NaN values induced by impossibility to translate\n",
    "    df = df.dropna(subset=[column])\n",
    "    return df"
   ]
  },
  {
   "cell_type": "markdown",
   "metadata": {},
   "source": [
    "For example, when used on 'allemagne', and on 'zzzzzz' (something we can't translate) we get:"
   ]
  },
  {
   "cell_type": "code",
   "execution_count": 46,
   "metadata": {},
   "outputs": [
    {
     "name": "stdout",
     "output_type": "stream",
     "text": [
      "germany\n",
      "nan\n"
     ]
    }
   ],
   "source": [
    "print(translate('allemagne', countries_dictionary))\n",
    "print(translate('zzzzzz', countries_dictionary))"
   ]
  },
  {
   "cell_type": "code",
   "execution_count": 47,
   "metadata": {},
   "outputs": [],
   "source": [
    "# Translate the 'countries_en' column in df\n",
    "df_with_countries = translate_column(df_with_countries, 'countries_en', countries_dictionary)\n",
    "\n",
    "# Translate the 'countries_en' and the 'origins' columns in df_with_origins\n",
    "df_with_origins = translate_column(df_with_origins, 'countries_en', countries_dictionary)\n",
    "df_with_origins = translate_column(df_with_origins, 'origins', countries_dictionary)"
   ]
  },
  {
   "cell_type": "code",
   "execution_count": 48,
   "metadata": {},
   "outputs": [
    {
     "name": "stdout",
     "output_type": "stream",
     "text": [
      "Shape of our DataFrame with the countries: (727212, 13)\n",
      "Shape of the DataFrame with the origins: (40668, 14)\n"
     ]
    }
   ],
   "source": [
    "print('Shape of our DataFrame with the countries:', df_with_countries.shape)\n",
    "print('Shape of the DataFrame with the origins:', df_with_origins.shape)"
   ]
  },
  {
   "cell_type": "markdown",
   "metadata": {},
   "source": [
    "As we can see, a few rows were lost in `df_with_countries` (~600 out of ~728k), but many were lost in `df_with_origins` (~22k out of ~62k) because the format of `origins` is very inconsistent."
   ]
  },
  {
   "cell_type": "markdown",
   "metadata": {},
   "source": [
    "We can now save the new DataFrames for faster loading next time."
   ]
  },
  {
   "cell_type": "code",
   "execution_count": 49,
   "metadata": {},
   "outputs": [],
   "source": [
    "df.to_csv(path_or_buf=DATA_FOLDER + 'df.csv', sep=\"\\t\", encoding=\"utf-8\", index=False)\n",
    "df_with_countries.to_csv(path_or_buf=DATA_FOLDER + 'df_with_countries.csv', sep=\"\\t\", encoding=\"utf-8\", index=False)\n",
    "df_with_origins.to_csv(path_or_buf=DATA_FOLDER + 'df_with_origins.csv', sep=\"\\t\", encoding=\"utf-8\", index=False)"
   ]
  },
  {
   "cell_type": "markdown",
   "metadata": {},
   "source": [
    "## The notebook can be started here for faster computation <a id='second start'></a>"
   ]
  },
  {
   "cell_type": "markdown",
   "metadata": {},
   "source": [
    "Reload the save and other variables and some imports:"
   ]
  },
  {
   "cell_type": "code",
   "execution_count": 1,
   "metadata": {},
   "outputs": [],
   "source": [
    "import pandas as pd\n",
    "import numpy as np\n",
    "import matplotlib.pyplot as plt\n",
    "import seaborn as sns\n",
    "import re\n",
    "from translate import Translator\n",
    "\n",
    "DATA_FOLDER = 'data/'\n",
    "\n",
    "languages = ['french', 'german', 'spanish', 'italian', 'dutch', 'russian', 'swedish',\n",
    "             'portuguese', 'danish', 'romanian', 'hungarian']\n",
    "\n",
    "df = pd.read_csv(DATA_FOLDER + 'df.csv', sep=\"\\t\", encoding=\"utf-8\", low_memory=False)\n",
    "df_with_countries = pd.read_csv(DATA_FOLDER + 'df_with_countries.csv', sep=\"\\t\", encoding=\"utf-8\", low_memory=False)\n",
    "df_with_origins = pd.read_csv(DATA_FOLDER + 'df_with_origins.csv', sep=\"\\t\", encoding=\"utf-8\", low_memory=False)"
   ]
  },
  {
   "cell_type": "markdown",
   "metadata": {},
   "source": [
    "**Packaging and Labels columns formatting**"
   ]
  },
  {
   "cell_type": "markdown",
   "metadata": {},
   "source": [
    "For the `packaging` and `labels` columns, it's even more complicated.\n",
    "Imagine if a product has packaging `plastic, bag`. Then exploding the packaging would result in two different rows, one with packaging `plastic`, the other with packaging `bag`. Since we want to make statistics on the packagings, this would give erroneous proportion for each of them.\n",
    "\n",
    "For the country-related columns, it was not an issue because we are not interested in the proportion of products produced in each country, but we would rather want to make statistics on other interesting information for each country.\n",
    "\n",
    "Our decision is to define different accessors to get each interesting label and each interesting packaging type in the dataset. With this approach we will avoid the problem stated above. The results will still be slightly biased, because we only consider those written in one of the top languages. We will not give any country-specific result for the countries that do not have enough datapoints, so this bias will be very small."
   ]
  },
  {
   "cell_type": "markdown",
   "metadata": {},
   "source": [
    "First we define a function that returns a boolean mask for a dataframe, computed from wether or not the input string is contained in each row (in the specified column)."
   ]
  },
  {
   "cell_type": "code",
   "execution_count": 2,
   "metadata": {},
   "outputs": [],
   "source": [
    "def contains_str(df, column, string):\n",
    "    return df[column].str.contains(string, na=False, flags=re.IGNORECASE)"
   ]
  },
  {
   "cell_type": "markdown",
   "metadata": {},
   "source": [
    "Now we can use this function to define a higher level one, that returns all the elements of the input dataframe such that at a specified column, at least one of the `included_strings` parameter is contained, and none of the `excluded_strings` parameter is contained."
   ]
  },
  {
   "cell_type": "code",
   "execution_count": 3,
   "metadata": {},
   "outputs": [],
   "source": [
    "def filter_str_column(df, column, included_strings, excluded_strings=[]):\n",
    "    df = df.reset_index(drop=True)\n",
    "    boolean_mask = pd.Series(np.full((len(df)), False, dtype=bool))\n",
    "    for string in included_strings:\n",
    "        boolean_mask = boolean_mask | contains_str(df, column, string)\n",
    "    for string in excluded_strings:\n",
    "        boolean_mask = boolean_mask & ~contains_str(df, column, string)\n",
    "    return df[boolean_mask]"
   ]
  },
  {
   "cell_type": "markdown",
   "metadata": {},
   "source": [
    "We also defined a function to translate a word to a list of translations in the input languages. This was used to quickly make translations for the labels and packagings that we are interested into, but since it is API-based (and thus slow) we hard-coded the translations (so `multi_translate` is not used anymore). We also simplified them sometimes since we only need the string to be included (so a prefix works as well)."
   ]
  },
  {
   "cell_type": "code",
   "execution_count": 4,
   "metadata": {},
   "outputs": [],
   "source": [
    "def multi_translate(word, languages):\n",
    "    translations = []\n",
    "    for language in languages:\n",
    "        translator = Translator(to_lang=language)\n",
    "        translations.append(translator.translate(word))\n",
    "        \n",
    "    return translations"
   ]
  },
  {
   "cell_type": "markdown",
   "metadata": {},
   "source": [
    "The final keywords are here:"
   ]
  },
  {
   "cell_type": "code",
   "execution_count": 5,
   "metadata": {},
   "outputs": [],
   "source": [
    "# Usual words or prefixes for organic products\n",
    "# The regex \\\\bAB\\\\b is to find the acronym AB alone (a popular organic label in France)\n",
    "organic_included = ['bio', 'organi', 'orgáni', 'Økologisk', 'szerves', '\\\\bAB\\\\b']\n",
    "\n",
    "# Most of the gluten free products contain the word 'gluten' in their labels, or 'glutine' in Italian\n",
    "# 1 product is labeled \"avec gluten\" so we have to get rid of it\n",
    "gluten_free_included = ['gluten', 'glutine', 'клейковина', 'glúten', 'sikér']\n",
    "gluten_free_excluded = ['avec gluten', 'mit gluten', 'con gluten', 'con glutine',\n",
    "    'met gluten', 'с глютеном', 'med gluten', 'com glúten', 'cu gluten', 'a glutén']\n",
    "\n",
    "# Most popular ways of writing the vegan label\n",
    "# Some products are labeled \"no vegan\" so we have to get rid of them\n",
    "vegan_included = ['vega', 'végétalien', 'vegetalien', 'végane']\n",
    "vegan_excluded = ['no vegan']\n",
    "\n",
    "# Containing 'halal' is necessary and sufficient for a product to be halal\n",
    "halal_included = ['halal', 'xаляльное', 'helal']\n",
    "\n",
    "# Fair trade is written down in different ways in the dataframe, so we have to gather most of them\n",
    "fair_trade_included = ['commerce équitable', 'fairtrade', 'fair trade', 'fair-trade', 'commercio equo e solidale', \n",
    "    'eerlijke handel', 'честная торговля', 'feira comercial', 'comerț echitabil', 'tisztességes üzlet']\n",
    "\n",
    "# Usual words or prefixes for plastic in the most used languages\n",
    "plastic_included = ['plast', 'kunststof', 'plástico', 'пластик', 'műanyag']\n",
    "\n",
    "# Usual words or prefixes for cardboard or paper in the most used languages\n",
    "cardboard_included = ['cart', 'cardboard', 'karton', 'Картон', 'pap', 'бумага', 'hârtie']\n",
    "\n",
    "# Usual words or prefixes for glass in the most used languages\n",
    "glass_included = ['verre', 'glas', 'vidrio', 'стекло', 'sticlă', 'pohár']\n",
    "\n",
    "# Usual words or prefixes for metal or aluminium in the most used languages\n",
    "metal_included = ['metal', 'métal', 'металл', 'fém', 'alumini', 'alumíni', 'алюминий', 'can']"
   ]
  },
  {
   "cell_type": "markdown",
   "metadata": {},
   "source": [
    "With all of that, we can super easily define functions to get all the elements of the dataframe that match what we are interested into. Most of the times we only need to include the translations of the info we want to have, but sometimes we also have to specifically exclude some results. The values of `vegan_excluded` and `gluten_free_excluded` explain this very well."
   ]
  },
  {
   "cell_type": "code",
   "execution_count": 6,
   "metadata": {},
   "outputs": [],
   "source": [
    "def bio_label(df):\n",
    "    return filter_str_column(df, 'labels', organic_included)\n",
    "\n",
    "def vegan_label(df):\n",
    "    return filter_str_column(df, 'labels', vegan_included, vegan_excluded)\n",
    "\n",
    "def gluten_free_label(df):\n",
    "    return filter_str_column(df, 'labels', gluten_free_included, gluten_free_excluded)\n",
    "\n",
    "def halal_label(df):\n",
    "    return filter_str_column(df, 'labels', halal_included)\n",
    "\n",
    "def fair_trade_label(df):\n",
    "    return filter_str_column(df, 'labels', fair_trade_included)\n",
    "\n",
    "def plastic_packaging(df):\n",
    "    return filter_str_column(df, 'packaging', plastic_included)\n",
    "\n",
    "def cardboard_packaging(df):\n",
    "    return filter_str_column(df, 'packaging', cardboard_included)\n",
    "\n",
    "def glass_packaging(df):\n",
    "    return filter_str_column(df, 'packaging', glass_included)\n",
    "\n",
    "def metal_packaging(df):\n",
    "    return filter_str_column(df, 'packaging', metal_included)"
   ]
  },
  {
   "cell_type": "markdown",
   "metadata": {},
   "source": [
    "## Exploratory Analysis"
   ]
  },
  {
   "cell_type": "markdown",
   "metadata": {},
   "source": [
    "**Import - Export**"
   ]
  },
  {
   "cell_type": "markdown",
   "metadata": {},
   "source": [
    "As a first analysis, we will try to visualize which countries import and export, for the main countries in the dataset."
   ]
  },
  {
   "cell_type": "markdown",
   "metadata": {},
   "source": [
    "Now let's get the destination and origin countries for the products, and try to first visualize which are the top destination countries:"
   ]
  },
  {
   "cell_type": "code",
   "execution_count": 7,
   "metadata": {},
   "outputs": [],
   "source": [
    "dest_count = df_with_countries['countries_en'].value_counts()"
   ]
  },
  {
   "cell_type": "markdown",
   "metadata": {},
   "source": [
    "We plot below the top-25 destination countries. Note that since France has a significantly higher number of products (this is a french dataset), we also plot in the log scale."
   ]
  },
  {
   "cell_type": "code",
   "execution_count": 8,
   "metadata": {},
   "outputs": [
    {
     "data": {
      "image/png": "[encoded data removed]",
      "text/plain": [
       "<Figure size 1440x504 with 2 Axes>"
      ]
     },
     "metadata": {},
     "output_type": "display_data"
    }
   ],
   "source": [
    "#Create subplots\n",
    "f, (ax1, ax2) = plt.subplots(1, 2, figsize=(20, 7))\n",
    "\n",
    "#Plot the count of the products for each destination country\n",
    "dest_count[:25].plot(kind='barh', color='orange', ax=ax1)\n",
    "ax1.set_xlabel('Number of products')\n",
    "\n",
    "#Plot again in log scale\n",
    "dest_count[:25].plot(kind='barh', color='orange', ax=ax2, log=True)\n",
    "ax2.set_xlabel('Number of products')\n",
    "\n",
    "f.suptitle('Number of products in the dataset, per country')\n",
    "plt.show()"
   ]
  },
  {
   "cell_type": "markdown",
   "metadata": {},
   "source": [
    "Not surprinsingly, the top countries are mainly those from Europe (again, the dataset focuses a lot on France and Europe), but we can also see the US, Canada and Mexico for example."
   ]
  },
  {
   "cell_type": "markdown",
   "metadata": {},
   "source": [
    "***In the remaining part of the notebook, we decided to focus our analysis on the countries that have the most products in their inventory, so that we can do the analysis on countries that have the most data points.***\n",
    "\n",
    "So we will keep those top countries, and we will do the analyses on the first 15 of them. This will also help for the current visualizations that are mostly in bar charts (impossible to read if there are too many countries).\n"
   ]
  },
  {
   "cell_type": "code",
   "execution_count": 9,
   "metadata": {},
   "outputs": [],
   "source": [
    "top_15 = df_with_origins['countries_en'].value_counts()[:15].index"
   ]
  },
  {
   "cell_type": "markdown",
   "metadata": {},
   "source": [
    "Here, we will visualize the origins and destinations, for the top 15 countries in the destinations. We chose to represent this information as a heatmap. \n",
    "For each pair of countries, we compute the number of food products for that pair and add one to the corresponding cell in a matrix representing those pairs.\n",
    "\n",
    "After the matrix is filled with the counts of the different pairs, we use the `heatmap()` function of Seaborn to visualize the results."
   ]
  },
  {
   "cell_type": "code",
   "execution_count": 10,
   "metadata": {},
   "outputs": [],
   "source": [
    "def compute_heatmap(df, countries):\n",
    "    \"\"\"Given a dataframe, compute a \n",
    "    heatmap matrix for import-export\n",
    "    analysis of the given countries\"\"\"\n",
    "    \n",
    "    # Create the matrix that will contain the counts\n",
    "    matrix = pd.DataFrame(np.zeros((countries.size, countries.size)), index=countries, columns=countries)\n",
    "\n",
    "    # Fill in the matrix (for the top countries)\n",
    "    for idx, row in df.iterrows():\n",
    "        origin = row['origins']\n",
    "        destination = row['countries_en']\n",
    "        if destination in countries and origin in countries:\n",
    "            matrix.at[origin, destination] += 1\n",
    "    return matrix"
   ]
  },
  {
   "cell_type": "code",
   "execution_count": 11,
   "metadata": {},
   "outputs": [],
   "source": [
    "def plot_heatmap(matrix):\n",
    "    \"\"\"Plot the given matrix as a heatmap\"\"\"\n",
    "    \n",
    "    # Create subplots\n",
    "    f, (ax1, ax2) = plt.subplots(1, 2, figsize=(18, 6))\n",
    "\n",
    "    # Use Seaborn to plot a heatmap using the matrix\n",
    "    sns.heatmap(matrix, linewidth=0.5, cmap='Reds', ax=ax1)\n",
    "    ax1.set_ylabel('Origin Country')\n",
    "    ax1.set_xlabel('Destination Country')\n",
    "\n",
    "    # Plot again in log scale\n",
    "    sns.heatmap(np.log(matrix+1), linewidth=0.5, cmap='Reds', ax=ax2)\n",
    "    ax2.set_ylabel('Origin Country')\n",
    "    ax2.set_xlabel('Destination Country')\n",
    "\n",
    "    f.suptitle('Import-Export count between countries')\n",
    "    plt.show()"
   ]
  },
  {
   "cell_type": "code",
   "execution_count": 12,
   "metadata": {},
   "outputs": [
    {
     "data": {
      "image/png": "[encoded data removed]",
      "text/plain": [
       "<Figure size 1296x432 with 4 Axes>"
      ]
     },
     "metadata": {},
     "output_type": "display_data"
    }
   ],
   "source": [
    "plot_heatmap(compute_heatmap(df_with_origins, top_15))"
   ]
  },
  {
   "cell_type": "markdown",
   "metadata": {},
   "source": [
    "As France has a count that is a lot larger, we also plotted on the right with a log scale to get better insights. What we see from this plot is very interesting. \n",
    "\n",
    "With this dataset, it looks like many countries actually produce their own food (look at the diagonal). Again, as France has always more data in this dataset, we see that France import and export to many countries. This may definitely be biased, and that's why we prefer to focus also on the other countries.\n",
    "\n",
    "Spain, Mexico, Australia and UK also produce a lot of their own food. As big exporters, we spot Spain, Germany, Italy, which makes sense for Europe, and we have the US for the American countries. As importers, the plot suggests that Germany, Switzerland, Australia and UK are the main ones."
   ]
  },
  {
   "cell_type": "markdown",
   "metadata": {},
   "source": [
    "**Which countries sell what? (in terms of composition)**"
   ]
  },
  {
   "cell_type": "markdown",
   "metadata": {},
   "source": [
    "In this part, we focus on an interesting analysis that aim to see which are the top countries that eat with the biggest number of additives, the most quantity of sugar, salt, fat or proteins.\n",
    "\n",
    "This may be a good indicator of the quality of the products sold in our top countries. Are they healthy or not?"
   ]
  },
  {
   "cell_type": "markdown",
   "metadata": {},
   "source": [
    "In order to compute that, we will make use of the columns below, reunited in a list called `composition_cols`. Here again, we will need to use the countries where the products are sold."
   ]
  },
  {
   "cell_type": "code",
   "execution_count": 13,
   "metadata": {},
   "outputs": [],
   "source": [
    "# Get the columns we need to do the analysis\n",
    "composition_cols = ['additives_n', 'fat_100g', 'carbohydrates_100g', 'sugars_100g', \n",
    "                    'proteins_100g', 'salt_100g']"
   ]
  },
  {
   "cell_type": "code",
   "execution_count": 14,
   "metadata": {},
   "outputs": [
    {
     "data": {
      "image/png": "[encoded data removed]",
      "text/plain": [
       "<Figure size 1440x2520 with 6 Axes>"
      ]
     },
     "metadata": {},
     "output_type": "display_data"
    }
   ],
   "source": [
    "# Create subplot for the visualization\n",
    "f, axarr = plt.subplots(len(composition_cols), 1, figsize=(20, 35))\n",
    "\n",
    "# For each composition property (sugar, fat, ...)\n",
    "for i, comp in enumerate(composition_cols):\n",
    "    \n",
    "    # Get the composition we want\n",
    "    df_temp = df_with_countries[['countries_en', comp]]\n",
    "    \n",
    "    # We remove incorrect values for \"_100g\" columns\n",
    "    if comp != 'additives_n':\n",
    "        df_temp = df_temp[df_temp[comp] < 100]\n",
    "    \n",
    "    # We group by country, and compute the mean for the columns we need\n",
    "    df_temp = df_temp.groupby('countries_en').mean()\n",
    "    \n",
    "    # Plot a bar chart for our top 15 countries\n",
    "    df_temp.loc[top_15].sort_values(by=comp, ascending=False).plot(kind='bar', legend=None,\n",
    "                                                        color='orange', rot=0, ax=axarr[i])\n",
    "    \n",
    "    # Get the name of the column without the \"_100g\" or \"_n\"\n",
    "    comp_name = comp.split('_', 1)[0]\n",
    "    \n",
    "    # Set the axis titles depending on the columns\n",
    "    if comp == 'additives_n':\n",
    "        axarr[i].set_ylabel('Number of additives')\n",
    "    else:\n",
    "        axarr[i].set_ylabel('Number of grams of ' + comp_name + ' per 100g')\n",
    "        \n",
    "    # Set the title of the plots\n",
    "    axarr[i].set_title('Average quantity of ' + comp_name + ' for the top countries')\n",
    "\n",
    "plt.show()"
   ]
  },
  {
   "cell_type": "markdown",
   "metadata": {},
   "source": [
    "It is hard to get any conclusions at this point, but we can see for example that in terms of sugar, the US has the largest amount.\n",
    "\n",
    "For the salt, Romania is clearly first, and interestingly, the countries with the biggest quantities are mainly those from America. Does this imply that countries from America have products that are less healthy?\n",
    "\n",
    "Again, it is hard to conclude yet, but the bar charts show interesting results. We believe that it will be easier to get more insights when we will have the visualization on the world map."
   ]
  },
  {
   "cell_type": "markdown",
   "metadata": {},
   "source": [
    "## Plans for the next steps of the project"
   ]
  },
  {
   "cell_type": "markdown",
   "metadata": {},
   "source": [
    "**Plans for Milestone 3**"
   ]
  },
  {
   "cell_type": "markdown",
   "metadata": {},
   "source": [
    "We have chosen the pdf report for the final submission.\n",
    "\n",
    "For the 3rd milestone, we mainly plan to:\n",
    "\n",
    "- Work on the formatting of `packaging` (in order to have everything in the same language, and matching precise names, like we did for the countries) &rarr; For the 2nd of December.\n",
    "\n",
    "- Add visualization part (world map) For each country we plan to display some nutritional information about its products (from the columns of the form `information_100g`) &rarr; For the 2nd of December.\n",
    "\n",
    "- Make some analysis on more labels (among vegan, gluten-free, halal and fair-trade) &rarr; For the 7th of December.\n",
    "\n",
    "- Perform the machine learning part with the images for the BIO products (to see if there are recurrent patterns or dominant colors) &rarr; For the 7th of December\n",
    "\n",
    "***Note that we already created a script in order to download the images of products with the BIO label. It can be found in the file `images_download.py`.***\n",
    "\n",
    "- Complete the report &rarr; For the 14th of December\n",
    "\n",
    "- Review our report before the final submission and enhance it &rarr; For the 16th of December\n"
   ]
  },
  {
   "cell_type": "markdown",
   "metadata": {},
   "source": [
    "**Plans for the presentation**\n",
    "\n",
    "For the presentation, we plan to:\n",
    "\n",
    "- Give an introduction about the problem of how the food travels, packaging issues and nutrition concerns.\n",
    "\n",
    "- Explain what our project was about (where the food comes from, biological products, packaging & nutritional values)\n",
    "\n",
    "- Show and explain the different insights we got together with the maps of the world\n",
    "\n",
    "- Show the machine learning part and indicate the patterns and dominant colors we found for the biological products"
   ]
  }
 ],
 "metadata": {
  "kernelspec": {
   "display_name": "Python 3",
   "language": "python",
   "name": "python3"
  },
  "language_info": {
   "codemirror_mode": {
    "name": "ipython",
    "version": 3
   },
   "file_extension": ".py",
   "mimetype": "text/x-python",
   "name": "python",
   "nbconvert_exporter": "python",
   "pygments_lexer": "ipython3",
   "version": "3.6.5"
  }
 },
 "nbformat": 4,
 "nbformat_minor": 2
}
