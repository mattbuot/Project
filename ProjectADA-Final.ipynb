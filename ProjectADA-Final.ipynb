{
 "cells": [
  {
   "cell_type": "markdown",
   "metadata": {},
   "source": [
    "# Project ADA Final notebook"
   ]
  },
  {
   "cell_type": "markdown",
   "metadata": {},
   "source": [
    "### [Fast start](#second start) (Skips the cleaning part)"
   ]
  },
  {
   "cell_type": "markdown",
   "metadata": {},
   "source": [
    "**Importing libraries**"
   ]
  },
  {
   "cell_type": "markdown",
   "metadata": {},
   "source": [
    "We mainly used `Pandas` in order to do exploratory analysis. For mathematical operations, and arrays, we used `NumPy`. For plotting we used `Matplotlib` and `Seaborn`, and finally for the cleaning part with the country names, the packagings and the labels to translate, we used `PyCountry`, `gettext`, `translate` and `re`."
   ]
  },
  {
   "cell_type": "code",
   "execution_count": 1,
   "metadata": {},
   "outputs": [],
   "source": [
    "import pandas as pd\n",
    "import numpy as np\n",
    "import matplotlib.pyplot as plt\n",
    "import seaborn as sns\n",
    "import pycountry as pc\n",
    "import gettext as gt\n",
    "import re\n",
    "from translate import Translator\n",
    "import folium\n",
    "import json"
   ]
  },
  {
   "cell_type": "markdown",
   "metadata": {},
   "source": [
    "## Loading and first exploration"
   ]
  },
  {
   "cell_type": "markdown",
   "metadata": {},
   "source": [
    "**Loading the dataset**"
   ]
  },
  {
   "cell_type": "code",
   "execution_count": 2,
   "metadata": {},
   "outputs": [],
   "source": [
    "DATA_FOLDER = 'data/'"
   ]
  },
  {
   "cell_type": "code",
   "execution_count": 3,
   "metadata": {},
   "outputs": [],
   "source": [
    "df = pd.read_csv(DATA_FOLDER + 'en.openfoodfacts.org.products.csv', sep=\"\\t\", encoding=\"utf-8\", low_memory=False)"
   ]
  },
  {
   "cell_type": "code",
   "execution_count": 4,
   "metadata": {},
   "outputs": [
    {
     "data": {
      "text/html": [
       "<div>\n",
       "<style scoped>\n",
       "    .dataframe tbody tr th:only-of-type {\n",
       "        vertical-align: middle;\n",
       "    }\n",
       "\n",
       "    .dataframe tbody tr th {\n",
       "        vertical-align: top;\n",
       "    }\n",
       "\n",
       "    .dataframe thead th {\n",
       "        text-align: right;\n",
       "    }\n",
       "</style>\n",
       "<table border=\"1\" class=\"dataframe\">\n",
       "  <thead>\n",
       "    <tr style=\"text-align: right;\">\n",
       "      <th></th>\n",
       "      <th>code</th>\n",
       "      <th>url</th>\n",
       "      <th>creator</th>\n",
       "      <th>created_t</th>\n",
       "      <th>created_datetime</th>\n",
       "      <th>last_modified_t</th>\n",
       "      <th>last_modified_datetime</th>\n",
       "      <th>product_name</th>\n",
       "      <th>generic_name</th>\n",
       "      <th>quantity</th>\n",
       "      <th>...</th>\n",
       "      <th>carbon-footprint_100g</th>\n",
       "      <th>nutrition-score-fr_100g</th>\n",
       "      <th>nutrition-score-uk_100g</th>\n",
       "      <th>glycemic-index_100g</th>\n",
       "      <th>water-hardness_100g</th>\n",
       "      <th>choline_100g</th>\n",
       "      <th>phylloquinone_100g</th>\n",
       "      <th>beta-glucan_100g</th>\n",
       "      <th>inositol_100g</th>\n",
       "      <th>carnitine_100g</th>\n",
       "    </tr>\n",
       "  </thead>\n",
       "  <tbody>\n",
       "    <tr>\n",
       "      <th>0</th>\n",
       "      <td>0000000000017</td>\n",
       "      <td>http://world-en.openfoodfacts.org/product/0000...</td>\n",
       "      <td>kiliweb</td>\n",
       "      <td>1529059080</td>\n",
       "      <td>2018-06-15T10:38:00Z</td>\n",
       "      <td>1529059204</td>\n",
       "      <td>2018-06-15T10:40:04Z</td>\n",
       "      <td>Vitória crackers</td>\n",
       "      <td>NaN</td>\n",
       "      <td>NaN</td>\n",
       "      <td>...</td>\n",
       "      <td>NaN</td>\n",
       "      <td>NaN</td>\n",
       "      <td>NaN</td>\n",
       "      <td>NaN</td>\n",
       "      <td>NaN</td>\n",
       "      <td>NaN</td>\n",
       "      <td>NaN</td>\n",
       "      <td>NaN</td>\n",
       "      <td>NaN</td>\n",
       "      <td>NaN</td>\n",
       "    </tr>\n",
       "    <tr>\n",
       "      <th>1</th>\n",
       "      <td>0000000000031</td>\n",
       "      <td>http://world-en.openfoodfacts.org/product/0000...</td>\n",
       "      <td>isagoofy</td>\n",
       "      <td>1539464774</td>\n",
       "      <td>2018-10-13T21:06:14Z</td>\n",
       "      <td>1539464817</td>\n",
       "      <td>2018-10-13T21:06:57Z</td>\n",
       "      <td>Cacao</td>\n",
       "      <td>NaN</td>\n",
       "      <td>130 g</td>\n",
       "      <td>...</td>\n",
       "      <td>NaN</td>\n",
       "      <td>NaN</td>\n",
       "      <td>NaN</td>\n",
       "      <td>NaN</td>\n",
       "      <td>NaN</td>\n",
       "      <td>NaN</td>\n",
       "      <td>NaN</td>\n",
       "      <td>NaN</td>\n",
       "      <td>NaN</td>\n",
       "      <td>NaN</td>\n",
       "    </tr>\n",
       "    <tr>\n",
       "      <th>2</th>\n",
       "      <td>0000000000123</td>\n",
       "      <td>http://world-en.openfoodfacts.org/product/0000...</td>\n",
       "      <td>kiliweb</td>\n",
       "      <td>1535737982</td>\n",
       "      <td>2018-08-31T17:53:02Z</td>\n",
       "      <td>1535737986</td>\n",
       "      <td>2018-08-31T17:53:06Z</td>\n",
       "      <td>Sauce Sweety chili 0%</td>\n",
       "      <td>NaN</td>\n",
       "      <td>NaN</td>\n",
       "      <td>...</td>\n",
       "      <td>NaN</td>\n",
       "      <td>NaN</td>\n",
       "      <td>NaN</td>\n",
       "      <td>NaN</td>\n",
       "      <td>NaN</td>\n",
       "      <td>NaN</td>\n",
       "      <td>NaN</td>\n",
       "      <td>NaN</td>\n",
       "      <td>NaN</td>\n",
       "      <td>NaN</td>\n",
       "    </tr>\n",
       "    <tr>\n",
       "      <th>3</th>\n",
       "      <td>0000000000291</td>\n",
       "      <td>http://world-en.openfoodfacts.org/product/0000...</td>\n",
       "      <td>kiliweb</td>\n",
       "      <td>1534239669</td>\n",
       "      <td>2018-08-14T09:41:09Z</td>\n",
       "      <td>1534239732</td>\n",
       "      <td>2018-08-14T09:42:12Z</td>\n",
       "      <td>Mendiants</td>\n",
       "      <td>NaN</td>\n",
       "      <td>NaN</td>\n",
       "      <td>...</td>\n",
       "      <td>NaN</td>\n",
       "      <td>NaN</td>\n",
       "      <td>NaN</td>\n",
       "      <td>NaN</td>\n",
       "      <td>NaN</td>\n",
       "      <td>NaN</td>\n",
       "      <td>NaN</td>\n",
       "      <td>NaN</td>\n",
       "      <td>NaN</td>\n",
       "      <td>NaN</td>\n",
       "    </tr>\n",
       "    <tr>\n",
       "      <th>4</th>\n",
       "      <td>0000000000949</td>\n",
       "      <td>http://world-en.openfoodfacts.org/product/0000...</td>\n",
       "      <td>kiliweb</td>\n",
       "      <td>1523440813</td>\n",
       "      <td>2018-04-11T10:00:13Z</td>\n",
       "      <td>1523440823</td>\n",
       "      <td>2018-04-11T10:00:23Z</td>\n",
       "      <td>Salade de carottes râpées</td>\n",
       "      <td>NaN</td>\n",
       "      <td>NaN</td>\n",
       "      <td>...</td>\n",
       "      <td>NaN</td>\n",
       "      <td>NaN</td>\n",
       "      <td>NaN</td>\n",
       "      <td>NaN</td>\n",
       "      <td>NaN</td>\n",
       "      <td>NaN</td>\n",
       "      <td>NaN</td>\n",
       "      <td>NaN</td>\n",
       "      <td>NaN</td>\n",
       "      <td>NaN</td>\n",
       "    </tr>\n",
       "  </tbody>\n",
       "</table>\n",
       "<p>5 rows × 173 columns</p>\n",
       "</div>"
      ],
      "text/plain": [
       "            code                                                url   creator  \\\n",
       "0  0000000000017  http://world-en.openfoodfacts.org/product/0000...   kiliweb   \n",
       "1  0000000000031  http://world-en.openfoodfacts.org/product/0000...  isagoofy   \n",
       "2  0000000000123  http://world-en.openfoodfacts.org/product/0000...   kiliweb   \n",
       "3  0000000000291  http://world-en.openfoodfacts.org/product/0000...   kiliweb   \n",
       "4  0000000000949  http://world-en.openfoodfacts.org/product/0000...   kiliweb   \n",
       "\n",
       "    created_t      created_datetime last_modified_t last_modified_datetime  \\\n",
       "0  1529059080  2018-06-15T10:38:00Z      1529059204   2018-06-15T10:40:04Z   \n",
       "1  1539464774  2018-10-13T21:06:14Z      1539464817   2018-10-13T21:06:57Z   \n",
       "2  1535737982  2018-08-31T17:53:02Z      1535737986   2018-08-31T17:53:06Z   \n",
       "3  1534239669  2018-08-14T09:41:09Z      1534239732   2018-08-14T09:42:12Z   \n",
       "4  1523440813  2018-04-11T10:00:13Z      1523440823   2018-04-11T10:00:23Z   \n",
       "\n",
       "                product_name generic_name quantity      ...        \\\n",
       "0           Vitória crackers          NaN      NaN      ...         \n",
       "1                      Cacao          NaN    130 g      ...         \n",
       "2      Sauce Sweety chili 0%          NaN      NaN      ...         \n",
       "3                  Mendiants          NaN      NaN      ...         \n",
       "4  Salade de carottes râpées          NaN      NaN      ...         \n",
       "\n",
       "  carbon-footprint_100g nutrition-score-fr_100g nutrition-score-uk_100g  \\\n",
       "0                   NaN                     NaN                     NaN   \n",
       "1                   NaN                     NaN                     NaN   \n",
       "2                   NaN                     NaN                     NaN   \n",
       "3                   NaN                     NaN                     NaN   \n",
       "4                   NaN                     NaN                     NaN   \n",
       "\n",
       "  glycemic-index_100g water-hardness_100g choline_100g phylloquinone_100g  \\\n",
       "0                 NaN                 NaN          NaN                NaN   \n",
       "1                 NaN                 NaN          NaN                NaN   \n",
       "2                 NaN                 NaN          NaN                NaN   \n",
       "3                 NaN                 NaN          NaN                NaN   \n",
       "4                 NaN                 NaN          NaN                NaN   \n",
       "\n",
       "  beta-glucan_100g inositol_100g carnitine_100g  \n",
       "0              NaN           NaN            NaN  \n",
       "1              NaN           NaN            NaN  \n",
       "2              NaN           NaN            NaN  \n",
       "3              NaN           NaN            NaN  \n",
       "4              NaN           NaN            NaN  \n",
       "\n",
       "[5 rows x 173 columns]"
      ]
     },
     "execution_count": 4,
     "metadata": {},
     "output_type": "execute_result"
    }
   ],
   "source": [
    "df.head()"
   ]
  },
  {
   "cell_type": "markdown",
   "metadata": {},
   "source": [
    "We see from here that there is a lot of information, and it seems that there is a lot of NaN values for certain columns."
   ]
  },
  {
   "cell_type": "markdown",
   "metadata": {},
   "source": [
    "More precisely, we can compute the number of columns in the dataframe:"
   ]
  },
  {
   "cell_type": "code",
   "execution_count": 5,
   "metadata": {},
   "outputs": [
    {
     "name": "stdout",
     "output_type": "stream",
     "text": [
      "Number of columns in the DataFrame: 173\n"
     ]
    }
   ],
   "source": [
    "print('Number of columns in the DataFrame:', df.columns.size)"
   ]
  },
  {
   "cell_type": "markdown",
   "metadata": {},
   "source": [
    "There are many features, but we definitely won't work with all of them for the purpose of this project."
   ]
  },
  {
   "cell_type": "markdown",
   "metadata": {},
   "source": [
    "As we explore the dataset, we will only keep a few columns from all those we have at our disposal."
   ]
  },
  {
   "cell_type": "markdown",
   "metadata": {},
   "source": [
    "**NaN proportion for each column**"
   ]
  },
  {
   "cell_type": "markdown",
   "metadata": {},
   "source": [
    "As mentioned earlier, it looks like there are many NaN values. Let's see that. Here we compute the proportion of NaN values for each columns, and only plot the columns that have less than 50% of NaNs."
   ]
  },
  {
   "cell_type": "code",
   "execution_count": 6,
   "metadata": {},
   "outputs": [
    {
     "name": "stdout",
     "output_type": "stream",
     "text": [
      "Number of columns that have a proportion of NaN less than 50%:  30 / 173 columns.\n"
     ]
    },
    {
     "data": {
      "image/png": "[encoded data removed]",
      "text/plain": [
       "<Figure size 1080x360 with 1 Axes>"
      ]
     },
     "metadata": {
      "needs_background": "light"
     },
     "output_type": "display_data"
    }
   ],
   "source": [
    "nan_proportion = df.isnull().mean(axis=0)\n",
    "nan_proportion_50 = nan_proportion[nan_proportion<0.5]\n",
    "print('Number of columns that have a proportion of NaN less than 50%: ', \n",
    "      nan_proportion_50.size, '/', df.columns.size, 'columns.')\n",
    "\n",
    "plt.figure(figsize=(15, 5))\n",
    "nan_proportion_50.plot(kind='bar', color='orange')\n",
    "plt.title('Proportion of NaN for different columns')\n",
    "\n",
    "plt.show()"
   ]
  },
  {
   "cell_type": "markdown",
   "metadata": {},
   "source": [
    "Quite surprising! Actually, only 30 columns are more than half filled on the 173 that we have at our disposal. This suggest that maybe we will need to review some of things we planned to do because of the missing values. Indeed, if a huge amount of values are missing, we won't get very precise insights about the data for these columns."
   ]
  },
  {
   "cell_type": "markdown",
   "metadata": {},
   "source": [
    "**Choosing the columns to keep**"
   ]
  },
  {
   "cell_type": "markdown",
   "metadata": {},
   "source": [
    "Now let's see with what columns we are going to work with. Of course, we keep the information about the products such as the name, brand, url. \n",
    "\n",
    "Then we also want to keep the information about the countries, since it was one of the main focus of the project.\n",
    "\n",
    "We will also keep all those related to the composition of the products (serving quantity, additives, fat, sugar, ...) as it will help us get insights about which country eats what."
   ]
  },
  {
   "cell_type": "code",
   "execution_count": 7,
   "metadata": {},
   "outputs": [],
   "source": [
    "# Columns that we keep for the exploratory analysis\n",
    "cols = ['product_name', 'url', 'brands_tags', 'countries_en', 'origins', 'serving_quantity', 'additives_n', \n",
    "        'fat_100g', 'carbohydrates_100g', 'sugars_100g', \n",
    "       'proteins_100g', 'salt_100g', 'labels', 'packaging']\n",
    "\n",
    "# Filter to only keep the columns we need\n",
    "df = df[cols]"
   ]
  },
  {
   "cell_type": "markdown",
   "metadata": {},
   "source": [
    "## Cleaning the dataset"
   ]
  },
  {
   "cell_type": "markdown",
   "metadata": {},
   "source": [
    "**Cleaning the countries columns**"
   ]
  },
  {
   "cell_type": "markdown",
   "metadata": {},
   "source": [
    "The columns `origins` and `countries_en` need a lot of cleaning to be usable later."
   ]
  },
  {
   "cell_type": "code",
   "execution_count": 8,
   "metadata": {},
   "outputs": [],
   "source": [
    "# Put everything in lowercase in order to have more consistency\n",
    "df['countries_en'] = df['countries_en'].str.lower() \n",
    "df['origins'] = df['origins'].str.lower()\n",
    "df['packaging'] = df['packaging'].str.lower()\n",
    "df['labels'] = df['labels'].str.lower()"
   ]
  },
  {
   "cell_type": "markdown",
   "metadata": {},
   "source": [
    "For outlier exploration, we defined a function to check wether the columns with countries are in the right format or not."
   ]
  },
  {
   "cell_type": "code",
   "execution_count": 9,
   "metadata": {},
   "outputs": [],
   "source": [
    "def countries_format_check(df, column):\n",
    "    \"\"\"Counts the number of occurences of some unexpected \n",
    "    types or values for entries in the specified column\n",
    "    \"\"\"\n",
    "    \n",
    "    counter_wrong_type = 0\n",
    "    counter_empty_string = 0\n",
    "    counter_nan = 0\n",
    "\n",
    "    for entry in df[column]:\n",
    "        if not(type(entry) is str):\n",
    "            counter_wrong_type += 1\n",
    "        elif entry == \"\":\n",
    "            counter_empty_string += 1\n",
    "            \n",
    "        if entry != entry: # entry is NaN <=> entry != entry\n",
    "            counter_nan += 1\n",
    "\n",
    "    print(\"%d values in \" %counter_wrong_type + column + \" are not of type 'str'\")\n",
    "    print(\"%d values in \" %counter_nan + column + \" are nan\")\n",
    "    print(\"%d values in \" %counter_empty_string + column + \" are empty strings\")"
   ]
  },
  {
   "cell_type": "code",
   "execution_count": 10,
   "metadata": {},
   "outputs": [
    {
     "name": "stdout",
     "output_type": "stream",
     "text": [
      "543 values in countries_en are not of type 'str'\n",
      "543 values in countries_en are nan\n",
      "0 values in countries_en are empty strings\n"
     ]
    }
   ],
   "source": [
    "countries_format_check(df, 'countries_en')"
   ]
  },
  {
   "cell_type": "markdown",
   "metadata": {},
   "source": [
    "As we can see, some entries in `countries_en` are actually not strings. Actually, these outliers are always NaN (so they have float type). Since this value is needed we can drop these samples."
   ]
  },
  {
   "cell_type": "code",
   "execution_count": 11,
   "metadata": {},
   "outputs": [
    {
     "name": "stdout",
     "output_type": "stream",
     "text": [
      "639722 values in origins are not of type 'str'\n",
      "639722 values in origins are nan\n",
      "0 values in origins are empty strings\n"
     ]
    }
   ],
   "source": [
    "countries_format_check(df, 'origins')"
   ]
  },
  {
   "cell_type": "markdown",
   "metadata": {},
   "source": [
    "In `origins`, it is even worse. We rarely even have anything else than a NaN. When we are interested in the origins of a product, we need to drop these outliers. Otherwise we need to keep them (or we would lose too much data)."
   ]
  },
  {
   "cell_type": "markdown",
   "metadata": {},
   "source": [
    "**Exploding the countries columns**"
   ]
  },
  {
   "cell_type": "code",
   "execution_count": 12,
   "metadata": {},
   "outputs": [],
   "source": [
    "def explode_dataframe(df, column, separator):\n",
    "    \"\"\" Duplicates the rows of the input DataFrame df, by splitting on 'separator' the string contained in 'column'\n",
    "        For example, when using this function on column C, with separator ',' on the following DataFrame\n",
    "            A  B  C\n",
    "        1   1  2  a,b\n",
    "        2   3  4  c,d,e\n",
    "    \n",
    "        We expect a return value like this:\n",
    "            A  B  C\n",
    "        1   1  2  a\n",
    "        1   1  2  b\n",
    "        2   3  4  c\n",
    "        2   3  4  d\n",
    "        2   3  4  e\n",
    "    \"\"\"\n",
    "    \n",
    "    # Helper function that duplicates a single 'row' and appends the result to 'rows'\n",
    "    def explode_row(row, rows):\n",
    "        splitted_string = row[column].split(separator)\n",
    "        for s in splitted_string:\n",
    "            new_row = row.to_dict()\n",
    "            new_row[column] = s\n",
    "            rows.append(new_row)\n",
    "    \n",
    "    rows = []\n",
    "    df.apply(lambda row : explode_row(row, rows), axis=1)\n",
    "\n",
    "    new_df = pd.DataFrame(rows)\n",
    "    return new_df"
   ]
  },
  {
   "cell_type": "markdown",
   "metadata": {},
   "source": [
    "First, we split `countries_en` and `origins`, since they may contain more than one country."
   ]
  },
  {
   "cell_type": "code",
   "execution_count": 13,
   "metadata": {},
   "outputs": [
    {
     "name": "stdout",
     "output_type": "stream",
     "text": [
      "New shape of our DataFrame: (710512, 14)\n"
     ]
    }
   ],
   "source": [
    "df_with_countries = explode_dataframe(df.dropna(subset=['countries_en']), 'countries_en', ',')\n",
    "print('New shape of our DataFrame:', df_with_countries.shape)"
   ]
  },
  {
   "cell_type": "markdown",
   "metadata": {},
   "source": [
    "As we can see, we end up with quite a lot more data when splitting to get all the countries separated."
   ]
  },
  {
   "cell_type": "code",
   "execution_count": 14,
   "metadata": {},
   "outputs": [
    {
     "name": "stdout",
     "output_type": "stream",
     "text": [
      "Shape of the DataFrame with the origins: (60114, 14)\n"
     ]
    }
   ],
   "source": [
    "df_with_origins = explode_dataframe(df_with_countries.dropna(subset=['origins']), 'origins', ',')\n",
    "print('Shape of the DataFrame with the origins:', df_with_origins.shape)"
   ]
  },
  {
   "cell_type": "markdown",
   "metadata": {},
   "source": [
    "But due to the number of NaN values in `origins`, we have a lot less data in `df_with origins`. Now we'll either use `df_with_origins` when we need the origins, or df when we don't need the origins. Thus we can drop `origins` in `df`."
   ]
  },
  {
   "cell_type": "code",
   "execution_count": 15,
   "metadata": {},
   "outputs": [],
   "source": [
    "df_with_countries = df_with_countries.drop(['origins'], axis=1)\n",
    "df = df.drop(['countries_en', 'origins'], axis=1)"
   ]
  },
  {
   "cell_type": "markdown",
   "metadata": {},
   "source": [
    "**Formatting the countries columns**"
   ]
  },
  {
   "cell_type": "markdown",
   "metadata": {},
   "source": [
    "Now the main issue is that the format of these strings is not consistent at all. Some country names are written in french, some are in english, etc... Even in `countries_en` (where everything is supposed to be written in english, some entries are in french or in some other language, or even some kind of code). In `origins` it's even more frequently in some other language than english. Also some are very specific (country + region + county for example), and we will not be interested in so much spatial detail. We also still have outliers from which we cannot retrieve the country it corresponds to (like strings that do not even contain any spatial information)."
   ]
  },
  {
   "cell_type": "markdown",
   "metadata": {},
   "source": [
    "First we load the main used languages that we will translate from. That choice is based on a previous result where we have got an idea of the countries of the products. We then have chosen the 12 top languages in those results. English is not in the list because we will translate from it."
   ]
  },
  {
   "cell_type": "code",
   "execution_count": 16,
   "metadata": {},
   "outputs": [],
   "source": [
    "languages = ['french', 'german', 'spanish', 'italian', 'dutch', 'russian', 'swedish',\n",
    "             'portuguese', 'danish', 'romanian', 'hungarian']"
   ]
  },
  {
   "cell_type": "code",
   "execution_count": 17,
   "metadata": {},
   "outputs": [],
   "source": [
    "country_translations = []\n",
    "for language in languages:\n",
    "    country_translations.append(gt.translation('iso3166', pc.LOCALES_DIR, languages=[language]))"
   ]
  },
  {
   "cell_type": "markdown",
   "metadata": {},
   "source": [
    "Now we need to be able to read the countries lists from PyCountry. We defined 4 functions for that."
   ]
  },
  {
   "cell_type": "code",
   "execution_count": 18,
   "metadata": {},
   "outputs": [],
   "source": [
    "# Read the country names in english\n",
    "def read_country_names_en(lowercase=True):\n",
    "    country_names = []\n",
    "    for country in pc.countries:\n",
    "        if lowercase:\n",
    "            country_names.append(country.name.lower())\n",
    "        else:\n",
    "            country_names.append(country.name)\n",
    "    return country_names\n",
    "\n",
    "# Read the country names translated in another language\n",
    "def read_country_names_translated(language):\n",
    "    country_names = []\n",
    "    for country in pc.countries:\n",
    "        country_names.append(language.gettext(country.name).lower())\n",
    "    return country_names\n",
    "\n",
    "# Read the country alpha2 codes\n",
    "def read_country_alpha2s():\n",
    "    country_names = []\n",
    "    for country in pc.countries:\n",
    "        country_names.append(country.alpha_2.lower())\n",
    "    return country_names\n",
    "\n",
    "# Read the country alpha3 codes\n",
    "def read_country_alpha3s():\n",
    "    country_names = []\n",
    "    for country in pc.countries:\n",
    "        country_names.append(country.alpha_3.lower())\n",
    "    return country_names"
   ]
  },
  {
   "cell_type": "markdown",
   "metadata": {},
   "source": [
    "Now we can apply that to get a dictionary to translate the different country names or codes into the alpha3 code of the country. We will also want to have the English name of the country, but that it will be trivial to translate from the alpha3 to the english name. We also manually defined a dictionary for the strings with the most occurences that the other dictionaries could not translate (like regions of some countries, or country codes that are not the actual alpha2 code of the country it is supposed to represent)."
   ]
  },
  {
   "cell_type": "code",
   "execution_count": 19,
   "metadata": {},
   "outputs": [],
   "source": [
    "# Transform a list of keys and a list of values to a dictionary and add it to the dictionary list\n",
    "def append_dict(dicts_list, keys_list, values_list):\n",
    "    dicts_list.append(dict(zip(keys_list, values_list)))\n",
    "\n",
    "# Concats all the dictionaries to one single dictionary\n",
    "def concat_dicts(dicts_list):\n",
    "    total_dict = {}\n",
    "    for i in range(0, len(dicts_list)):\n",
    "        total_dict = {**total_dict, **dicts_list[i]}\n",
    "    return total_dict"
   ]
  },
  {
   "cell_type": "code",
   "execution_count": 20,
   "metadata": {},
   "outputs": [],
   "source": [
    "country_names_dicts = []\n",
    "countries_en = read_country_names_en() # Values to which the names will map (english version of the country names)\n",
    "countries_a3 = read_country_alpha3s()\n",
    "\n",
    "append_dict(country_names_dicts, countries_en, countries_a3)\n",
    "for translation in country_translations:\n",
    "    append_dict(country_names_dicts, read_country_names_translated(translation), countries_a3)\n",
    "append_dict(country_names_dicts, read_country_alpha2s(), countries_a3)\n",
    "append_dict(country_names_dicts, read_country_alpha3s(), countries_a3)\n",
    "\n",
    "manual_dict = {\n",
    "'en' : 'gbr',\n",
    "'uk' : 'gbr',\n",
    "'czech republic' : 'cze',\n",
    "'south korea' : 'kor',\n",
    "'eua' : 'usa',\n",
    "'e.u.a.' : 'usa',\n",
    "'palestine' : 'psx',\n",
    "'syria' : 'syr',\n",
    "'bretagne' : 'fra',\n",
    "'normandie' : 'fra',\n",
    "'sud-ouest' : 'fra',\n",
    "'lait origine france' : 'fra',\n",
    "'ecosse' : 'gbr',\n",
    "'provence' : 'fra',\n",
    "'equateur' : 'ecu',\n",
    "'thailande' : 'tha',\n",
    "'sud-ouest de la france' : 'fra',\n",
    "'république dominicaine' : 'dom',\n",
    "'ciudad de méxico' : 'mex',\n",
    "'sicile' : 'ita',\n",
    "'écosse' : 'gbr',\n",
    "'camargue' : 'fra',\n",
    "'bourgogne' : 'fra',\n",
    "'corse' : 'fra',\n",
    "'alsace' : 'fra',\n",
    "' españa' : 'esp',\n",
    "'bolivie' : 'bol',\n",
    "'porc origine france' : 'fra',\n",
    "'fr:lait de france' : 'fra',\n",
    "'pays de la loire' : 'fra',\n",
    "'aquitaine' : 'fra',\n",
    "'québec' : 'can',\n",
    "'ardèche' : 'fra',\n",
    "'andalucía' : 'esp',\n",
    "'agriculture france' : 'fra',\n",
    "'angleterre' : 'gbr',\n",
    "'ile de la réunion' : 'fra',\n",
    "'etats-unis' : 'usa',\n",
    "'val de loire' : 'fra',\n",
    "'rhône-alpes' : 'fra',\n",
    "'aveyron' : 'fra',\n",
    "'auvergne' : 'fra',\n",
    "'california' : 'usa',\n",
    "'franche-comté' : 'fra',\n",
    "'savoie' : 'fra',\n",
    "'russie' : 'rus',\n",
    "'alaska' : 'usa',\n",
    "'fr:deutschland' : 'deu',\n",
    "'ch:suisse' : 'che',\n",
    "'loire-atlantique' : 'fra',\n",
    "'de:allemagne' : 'deu',\n",
    "'fr:schweiz' : 'che',\n",
    "'fr:frankreich' : 'fra',\n",
    "'republic of macedonia' : 'mkd',\n",
    "'fr:quebec' : 'can',\n",
    "'fr:dom-tom' : 'fra',\n",
    "'democratic republic of the congo' : 'cog',\n",
    "'republic of the congo' : 'cog'}\n",
    "\n",
    "country_names_dicts.append(manual_dict)\n",
    "countries_dictionary = concat_dicts(country_names_dicts)"
   ]
  },
  {
   "cell_type": "markdown",
   "metadata": {},
   "source": [
    "We also define a dictionary from proper alpha3 code to English name. We keep the case because these names will appear on some plot so they need to look nice!"
   ]
  },
  {
   "cell_type": "code",
   "execution_count": 21,
   "metadata": {},
   "outputs": [],
   "source": [
    "a3_to_en_dict = dict(zip(countries_a3, read_country_names_en(lowercase=False)))"
   ]
  },
  {
   "cell_type": "markdown",
   "metadata": {},
   "source": [
    "We can now easily define an efficient function that translates a name with a dictionary."
   ]
  },
  {
   "cell_type": "code",
   "execution_count": 22,
   "metadata": {},
   "outputs": [],
   "source": [
    "# Translate the parameter 'word' to its corresponding value in the dictionary, or NaN if it is not found in the dictionary.\n",
    "def translate(word, dictionary):\n",
    "    return dictionary.get(word, np.NaN)\n",
    "\n",
    "# Translate a whole column of a DataFrame with a dictionary.\n",
    "def translate_column(df, column, to_column, dictionary):\n",
    "    # Translate every word in the column\n",
    "    df[to_column] = df[column].map(lambda word : translate(word, dictionary))\n",
    "    # Get rid of the new NaN values induced by impossibility to translate\n",
    "    df = df.dropna(subset=[to_column])\n",
    "    return df"
   ]
  },
  {
   "cell_type": "markdown",
   "metadata": {},
   "source": [
    "For example, when used on 'allemagne' and 'deu' with the other dictionary, we get:"
   ]
  },
  {
   "cell_type": "code",
   "execution_count": 23,
   "metadata": {},
   "outputs": [
    {
     "name": "stdout",
     "output_type": "stream",
     "text": [
      "deu\n",
      "Germany\n"
     ]
    }
   ],
   "source": [
    "print(translate('allemagne', countries_dictionary))\n",
    "print(translate('deu', a3_to_en_dict))"
   ]
  },
  {
   "cell_type": "code",
   "execution_count": 24,
   "metadata": {},
   "outputs": [],
   "source": [
    "# Translate the 'countries_en' column in df\n",
    "df_with_countries = translate_column(df_with_countries, 'countries_en', 'countries_a3', countries_dictionary)\n",
    "df_with_countries = translate_column(df_with_countries, 'countries_a3', 'countries_en', a3_to_en_dict)\n",
    "\n",
    "# Translate the 'countries_en' and the 'origins' columns in df_with_origins\n",
    "df_with_origins = translate_column(df_with_origins, 'countries_en', 'countries_a3', countries_dictionary)\n",
    "df_with_origins = translate_column(df_with_origins, 'countries_a3', 'countries_en', a3_to_en_dict)\n",
    "df_with_origins = translate_column(df_with_origins, 'origins', 'origins_a3', countries_dictionary)\n",
    "df_with_origins = translate_column(df_with_origins, 'origins_a3', 'origins', a3_to_en_dict)"
   ]
  },
  {
   "cell_type": "code",
   "execution_count": 25,
   "metadata": {},
   "outputs": [
    {
     "name": "stdout",
     "output_type": "stream",
     "text": [
      "Shape of our DataFrame with the countries: (709581, 14)\n",
      "Shape of the DataFrame with the origins: (38949, 16)\n"
     ]
    }
   ],
   "source": [
    "print('Shape of our DataFrame with the countries:', df_with_countries.shape)\n",
    "print('Shape of the DataFrame with the origins:', df_with_origins.shape)"
   ]
  },
  {
   "cell_type": "markdown",
   "metadata": {},
   "source": [
    "As we can see, a few rows were lost in `df_with_countries` (~600 out of ~728k), but many were lost in `df_with_origins` (~22k out of ~62k) because the format of `origins` is very inconsistent."
   ]
  },
  {
   "cell_type": "markdown",
   "metadata": {},
   "source": [
    "We can now save the new DataFrames for faster loading next time."
   ]
  },
  {
   "cell_type": "code",
   "execution_count": 26,
   "metadata": {},
   "outputs": [],
   "source": [
    "df.to_csv(path_or_buf=DATA_FOLDER + 'df.csv', sep=\"\\t\", encoding=\"utf-8\", index=False)\n",
    "df_with_countries.to_csv(path_or_buf=DATA_FOLDER + 'df_with_countries.csv', sep=\"\\t\", encoding=\"utf-8\", index=False)\n",
    "df_with_origins.to_csv(path_or_buf=DATA_FOLDER + 'df_with_origins.csv', sep=\"\\t\", encoding=\"utf-8\", index=False)"
   ]
  },
  {
   "cell_type": "markdown",
   "metadata": {},
   "source": [
    "## The notebook can be started here for faster computation <a id='second start'></a>"
   ]
  },
  {
   "cell_type": "markdown",
   "metadata": {},
   "source": [
    "Reload the save and other variables and some imports:"
   ]
  },
  {
   "cell_type": "code",
   "execution_count": 27,
   "metadata": {},
   "outputs": [],
   "source": [
    "import pandas as pd\n",
    "import numpy as np\n",
    "import matplotlib.pyplot as plt\n",
    "import seaborn as sns\n",
    "import re\n",
    "from translate import Translator\n",
    "import folium\n",
    "import json\n",
    "\n",
    "DATA_FOLDER = 'data/'\n",
    "\n",
    "languages = ['french', 'german', 'spanish', 'italian', 'dutch', 'russian', 'swedish',\n",
    "             'portuguese', 'danish', 'romanian', 'hungarian']\n",
    "\n",
    "df = pd.read_csv(DATA_FOLDER + 'df.csv', sep=\"\\t\", encoding=\"utf-8\", low_memory=False)\n",
    "df_with_countries = pd.read_csv(DATA_FOLDER + 'df_with_countries.csv', sep=\"\\t\", encoding=\"utf-8\", low_memory=False)\n",
    "df_with_origins = pd.read_csv(DATA_FOLDER + 'df_with_origins.csv', sep=\"\\t\", encoding=\"utf-8\", low_memory=False)"
   ]
  },
  {
   "cell_type": "markdown",
   "metadata": {},
   "source": [
    "**Packaging and Labels columns formatting**"
   ]
  },
  {
   "cell_type": "markdown",
   "metadata": {},
   "source": [
    "For the `packaging` and `labels` columns, it's even more complicated.\n",
    "Imagine if a product has packaging `plastic, bag`. Then exploding the packaging would result in two different rows, one with packaging `plastic`, the other with packaging `bag`. Since we want to make statistics on the packagings, this would give erroneous proportion for each of them.\n",
    "\n",
    "For the country-related columns, it was not an issue because we are not interested in the proportion of products produced in each country, but we would rather want to make statistics on other interesting information for each country.\n",
    "\n",
    "Our decision is to define different accessors to get each interesting label and each interesting packaging type in the dataset. With this approach we will avoid the problem stated above. The results will still be slightly biased, because we only consider those written in one of the top languages. We will not give any country-specific result for the countries that do not have enough datapoints, so this bias will be very small."
   ]
  },
  {
   "cell_type": "markdown",
   "metadata": {},
   "source": [
    "First we define a function that returns a boolean mask for a dataframe, computed from wether or not the input string is contained in each row (in the specified column)."
   ]
  },
  {
   "cell_type": "code",
   "execution_count": 28,
   "metadata": {},
   "outputs": [],
   "source": [
    "def contains_str(df, column, string):\n",
    "    return df[column].str.contains(string, na=False, flags=re.IGNORECASE)"
   ]
  },
  {
   "cell_type": "markdown",
   "metadata": {},
   "source": [
    "Now we can use this function to define a higher level one, that returns all the elements of the input dataframe such that at a specified column, at least one of the `included_strings` parameter is contained, and none of the `excluded_strings` parameter is contained."
   ]
  },
  {
   "cell_type": "code",
   "execution_count": 29,
   "metadata": {},
   "outputs": [],
   "source": [
    "def filter_str_column(df, column, included_strings, excluded_strings=[]):\n",
    "    df = df.reset_index(drop=True)\n",
    "    boolean_mask = pd.Series(np.full((len(df)), False, dtype=bool))\n",
    "    for string in included_strings:\n",
    "        boolean_mask = boolean_mask | contains_str(df, column, string)\n",
    "    for string in excluded_strings:\n",
    "        boolean_mask = boolean_mask & ~contains_str(df, column, string)\n",
    "    return df[boolean_mask]"
   ]
  },
  {
   "cell_type": "markdown",
   "metadata": {},
   "source": [
    "We also defined a function to translate a word to a list of translations in the input languages. This was used to quickly make translations for the labels and packagings that we are interested into, but since it is API-based (and thus slow) we hard-coded the translations (so `multi_translate` is not used anymore). We also simplified them sometimes since we only need the string to be included (so a prefix works as well)."
   ]
  },
  {
   "cell_type": "code",
   "execution_count": 30,
   "metadata": {},
   "outputs": [],
   "source": [
    "def multi_translate(word, languages):\n",
    "    translations = []\n",
    "    for language in languages:\n",
    "        translator = Translator(to_lang=language)\n",
    "        translations.append(translator.translate(word))\n",
    "        \n",
    "    return translations"
   ]
  },
  {
   "cell_type": "markdown",
   "metadata": {},
   "source": [
    "The final keywords are here:"
   ]
  },
  {
   "cell_type": "code",
   "execution_count": 31,
   "metadata": {},
   "outputs": [],
   "source": [
    "# Usual words or prefixes for organic products\n",
    "# The regex \\\\bAB\\\\b is to find the acronym AB alone (a popular organic label in France)\n",
    "organic_included = ['bio', 'organi', 'orgáni', 'Økologisk', 'szerves', '\\\\bAB\\\\b']\n",
    "\n",
    "# Most of the gluten free products contain the word 'gluten' in their labels, or 'glutine' in Italian\n",
    "# 1 product is labeled \"avec gluten\" so we have to get rid of it\n",
    "gluten_free_included = ['gluten', 'glutine', 'клейковина', 'glúten', 'sikér']\n",
    "gluten_free_excluded = ['avec gluten', 'mit gluten', 'con gluten', 'con glutine',\n",
    "    'met gluten', 'с глютеном', 'med gluten', 'com glúten', 'cu gluten', 'a glutén']\n",
    "\n",
    "# Most popular ways of writing the vegan label\n",
    "# Some products are labeled \"no vegan\" so we have to get rid of them\n",
    "vegan_included = ['vega', 'végétalien', 'vegetalien', 'végane']\n",
    "vegan_excluded = ['no vegan']\n",
    "\n",
    "# Containing 'halal' is necessary and sufficient for a product to be halal\n",
    "halal_included = ['halal', 'xаляльное', 'helal']\n",
    "\n",
    "# Fair trade is written down in different ways in the dataframe, so we have to gather most of them\n",
    "fair_trade_included = ['commerce équitable', 'fairtrade', 'fair trade', 'fair-trade', 'commercio equo e solidale', \n",
    "    'eerlijke handel', 'честная торговля', 'feira comercial', 'comerț echitabil', 'tisztességes üzlet']\n",
    "\n",
    "# Usual words or prefixes for plastic in the most used languages\n",
    "plastic_included = ['plast', 'kunststof', 'plástico', 'пластик', 'műanyag']\n",
    "\n",
    "# Usual words or prefixes for cardboard or paper in the most used languages\n",
    "cardboard_included = ['cart', 'cardboard', 'karton', 'Картон', 'pap', 'бумага', 'hârtie']\n",
    "\n",
    "# Usual words or prefixes for glass in the most used languages\n",
    "glass_included = ['verre', 'glas', 'vidrio', 'стекло', 'sticlă', 'pohár']\n",
    "\n",
    "# Usual words or prefixes for metal or aluminium in the most used languages\n",
    "metal_included = ['metal', 'métal', 'металл', 'fém', 'alumini', 'alumíni', 'алюминий', 'can']"
   ]
  },
  {
   "cell_type": "markdown",
   "metadata": {},
   "source": [
    "With all of that, we can super easily define functions to get all the elements of the dataframe that match what we are interested into. Most of the times we only need to include the translations of the info we want to have, but sometimes we also have to specifically exclude some results. The values of `vegan_excluded` and `gluten_free_excluded` explain this very well."
   ]
  },
  {
   "cell_type": "code",
   "execution_count": 32,
   "metadata": {},
   "outputs": [],
   "source": [
    "def organic_label(df):\n",
    "    return filter_str_column(df, 'labels', organic_included)\n",
    "\n",
    "def vegan_label(df):\n",
    "    return filter_str_column(df, 'labels', vegan_included, vegan_excluded)\n",
    "\n",
    "def gluten_free_label(df):\n",
    "    return filter_str_column(df, 'labels', gluten_free_included, gluten_free_excluded)\n",
    "\n",
    "def halal_label(df):\n",
    "    return filter_str_column(df, 'labels', halal_included)\n",
    "\n",
    "def fair_trade_label(df):\n",
    "    return filter_str_column(df, 'labels', fair_trade_included)\n",
    "\n",
    "def plastic_packaging(df):\n",
    "    return filter_str_column(df, 'packaging', plastic_included)\n",
    "\n",
    "def cardboard_packaging(df):\n",
    "    return filter_str_column(df, 'packaging', cardboard_included)\n",
    "\n",
    "def glass_packaging(df):\n",
    "    return filter_str_column(df, 'packaging', glass_included)\n",
    "\n",
    "def metal_packaging(df):\n",
    "    return filter_str_column(df, 'packaging', metal_included)"
   ]
  },
  {
   "cell_type": "markdown",
   "metadata": {},
   "source": [
    "## Exploratory Analysis"
   ]
  },
  {
   "cell_type": "markdown",
   "metadata": {},
   "source": [
    "**Import - Export**"
   ]
  },
  {
   "cell_type": "markdown",
   "metadata": {},
   "source": [
    "As a first analysis, we will try to visualize which countries import and export, for the main countries in the dataset."
   ]
  },
  {
   "cell_type": "markdown",
   "metadata": {},
   "source": [
    "Now let's get the destination and origin countries for the products, and try to first visualize which are the top destination countries:"
   ]
  },
  {
   "cell_type": "code",
   "execution_count": 33,
   "metadata": {},
   "outputs": [],
   "source": [
    "dest_count = df_with_countries['countries_en'].value_counts()"
   ]
  },
  {
   "cell_type": "markdown",
   "metadata": {},
   "source": [
    "We plot below the top-25 destination countries. Note that since France has a significantly higher number of products (this is a french dataset), we also plot in the log scale."
   ]
  },
  {
   "cell_type": "code",
   "execution_count": 34,
   "metadata": {},
   "outputs": [
    {
     "data": {
      "image/png": "[encoded data removed]",
      "text/plain": [
       "<Figure size 1440x504 with 2 Axes>"
      ]
     },
     "metadata": {
      "needs_background": "light"
     },
     "output_type": "display_data"
    }
   ],
   "source": [
    "#Create subplots\n",
    "f, (ax1, ax2) = plt.subplots(1, 2, figsize=(20, 7))\n",
    "\n",
    "#Plot the count of the products for each destination country\n",
    "dest_count[:25].plot(kind='barh', color='orange', ax=ax1)\n",
    "ax1.set_xlabel('Number of products')\n",
    "\n",
    "#Plot again in log scale\n",
    "dest_count[:25].plot(kind='barh', color='orange', ax=ax2, log=True)\n",
    "ax2.set_xlabel('Number of products')\n",
    "\n",
    "f.suptitle('Number of products in the dataset, per country')\n",
    "plt.show()"
   ]
  },
  {
   "cell_type": "markdown",
   "metadata": {},
   "source": [
    "Not surprinsingly, the top countries are mainly those from Europe (again, the dataset focuses a lot on France and Europe), but we can also see the US, Canada and Mexico for example."
   ]
  },
  {
   "cell_type": "markdown",
   "metadata": {},
   "source": [
    "***In the remaining part of the notebook, we decided to focus our analysis on the countries that have the most products in their inventory, so that we can do the analysis on countries that have the most data points.***\n",
    "\n",
    "So we will keep those top countries, and we will do the analyses on the first 15 of them. This will also help for the current visualizations that are mostly in bar charts (impossible to read if there are too many countries).\n"
   ]
  },
  {
   "cell_type": "code",
   "execution_count": 35,
   "metadata": {},
   "outputs": [],
   "source": [
    "top_15 = df_with_origins['countries_en'].value_counts()[:15].index"
   ]
  },
  {
   "cell_type": "code",
   "execution_count": 89,
   "metadata": {},
   "outputs": [],
   "source": [
    "def compute_import_export(df, country):\n",
    "    df = translate_column(df, 'countries_a3', 'countries_en', a3_to_en_dict)\n",
    "    exporting_to = df[df['origins'] == country]\n",
    "    export_count = exporting_to.groupby('countries_en').size()\n",
    "    export_count = export_count.drop(labels=[country])\n",
    "    \n",
    "    importing_from = df[df['countries_en'] == country]\n",
    "    import_count = importing_from.groupby('origins').size()\n",
    "    import_count = import_count.drop(labels=[country])\n",
    "    \n",
    "    return pd.DataFrame(export_count, columns=['Export count']), pd.DataFrame(import_count, columns=['Import count'])"
   ]
  },
  {
   "cell_type": "code",
   "execution_count": 90,
   "metadata": {},
   "outputs": [],
   "source": [
    "te, ti = compute_import_export(df_with_origins, 'France')\n",
    "#ti.index = ti.index.map(lambda x: countries_dictionary[x.lower()])\n",
    "#te.index = te.index.map(lambda x: countries_dictionary[x.lower()])"
   ]
  },
  {
   "cell_type": "code",
   "execution_count": 91,
   "metadata": {},
   "outputs": [
    {
     "data": {
      "text/html": [
       "<div>\n",
       "<style scoped>\n",
       "    .dataframe tbody tr th:only-of-type {\n",
       "        vertical-align: middle;\n",
       "    }\n",
       "\n",
       "    .dataframe tbody tr th {\n",
       "        vertical-align: top;\n",
       "    }\n",
       "\n",
       "    .dataframe thead th {\n",
       "        text-align: right;\n",
       "    }\n",
       "</style>\n",
       "<table border=\"1\" class=\"dataframe\">\n",
       "  <thead>\n",
       "    <tr style=\"text-align: right;\">\n",
       "      <th></th>\n",
       "      <th>Import count</th>\n",
       "    </tr>\n",
       "    <tr>\n",
       "      <th>origins</th>\n",
       "      <th></th>\n",
       "    </tr>\n",
       "  </thead>\n",
       "  <tbody>\n",
       "    <tr>\n",
       "      <th>Algeria</th>\n",
       "      <td>35</td>\n",
       "    </tr>\n",
       "    <tr>\n",
       "      <th>Argentina</th>\n",
       "      <td>145</td>\n",
       "    </tr>\n",
       "    <tr>\n",
       "      <th>Australia</th>\n",
       "      <td>46</td>\n",
       "    </tr>\n",
       "    <tr>\n",
       "      <th>Austria</th>\n",
       "      <td>37</td>\n",
       "    </tr>\n",
       "    <tr>\n",
       "      <th>Bangladesh</th>\n",
       "      <td>4</td>\n",
       "    </tr>\n",
       "    <tr>\n",
       "      <th>Belgium</th>\n",
       "      <td>303</td>\n",
       "    </tr>\n",
       "    <tr>\n",
       "      <th>Benin</th>\n",
       "      <td>1</td>\n",
       "    </tr>\n",
       "    <tr>\n",
       "      <th>Bolivia, Plurinational State of</th>\n",
       "      <td>66</td>\n",
       "    </tr>\n",
       "    <tr>\n",
       "      <th>Brazil</th>\n",
       "      <td>140</td>\n",
       "    </tr>\n",
       "    <tr>\n",
       "      <th>Bulgaria</th>\n",
       "      <td>25</td>\n",
       "    </tr>\n",
       "    <tr>\n",
       "      <th>Burkina Faso</th>\n",
       "      <td>16</td>\n",
       "    </tr>\n",
       "    <tr>\n",
       "      <th>Burundi</th>\n",
       "      <td>2</td>\n",
       "    </tr>\n",
       "    <tr>\n",
       "      <th>Cambodia</th>\n",
       "      <td>16</td>\n",
       "    </tr>\n",
       "    <tr>\n",
       "      <th>Cameroon</th>\n",
       "      <td>8</td>\n",
       "    </tr>\n",
       "    <tr>\n",
       "      <th>Canada</th>\n",
       "      <td>138</td>\n",
       "    </tr>\n",
       "    <tr>\n",
       "      <th>Chile</th>\n",
       "      <td>113</td>\n",
       "    </tr>\n",
       "    <tr>\n",
       "      <th>China</th>\n",
       "      <td>277</td>\n",
       "    </tr>\n",
       "    <tr>\n",
       "      <th>Colombia</th>\n",
       "      <td>36</td>\n",
       "    </tr>\n",
       "    <tr>\n",
       "      <th>Comoros</th>\n",
       "      <td>2</td>\n",
       "    </tr>\n",
       "    <tr>\n",
       "      <th>Congo</th>\n",
       "      <td>1</td>\n",
       "    </tr>\n",
       "    <tr>\n",
       "      <th>Congo, The Democratic Republic of the</th>\n",
       "      <td>1</td>\n",
       "    </tr>\n",
       "    <tr>\n",
       "      <th>Costa Rica</th>\n",
       "      <td>43</td>\n",
       "    </tr>\n",
       "    <tr>\n",
       "      <th>Croatia</th>\n",
       "      <td>1</td>\n",
       "    </tr>\n",
       "    <tr>\n",
       "      <th>Cuba</th>\n",
       "      <td>15</td>\n",
       "    </tr>\n",
       "    <tr>\n",
       "      <th>Cyprus</th>\n",
       "      <td>5</td>\n",
       "    </tr>\n",
       "    <tr>\n",
       "      <th>Côte d'Ivoire</th>\n",
       "      <td>48</td>\n",
       "    </tr>\n",
       "    <tr>\n",
       "      <th>Denmark</th>\n",
       "      <td>28</td>\n",
       "    </tr>\n",
       "    <tr>\n",
       "      <th>Dominican Republic</th>\n",
       "      <td>90</td>\n",
       "    </tr>\n",
       "    <tr>\n",
       "      <th>Ecuador</th>\n",
       "      <td>209</td>\n",
       "    </tr>\n",
       "    <tr>\n",
       "      <th>Egypt</th>\n",
       "      <td>23</td>\n",
       "    </tr>\n",
       "    <tr>\n",
       "      <th>...</th>\n",
       "      <td>...</td>\n",
       "    </tr>\n",
       "    <tr>\n",
       "      <th>Sao Tome and Principe</th>\n",
       "      <td>3</td>\n",
       "    </tr>\n",
       "    <tr>\n",
       "      <th>Saudi Arabia</th>\n",
       "      <td>3</td>\n",
       "    </tr>\n",
       "    <tr>\n",
       "      <th>Senegal</th>\n",
       "      <td>6</td>\n",
       "    </tr>\n",
       "    <tr>\n",
       "      <th>Serbia</th>\n",
       "      <td>10</td>\n",
       "    </tr>\n",
       "    <tr>\n",
       "      <th>Seychelles</th>\n",
       "      <td>9</td>\n",
       "    </tr>\n",
       "    <tr>\n",
       "      <th>Singapore</th>\n",
       "      <td>8</td>\n",
       "    </tr>\n",
       "    <tr>\n",
       "      <th>Slovakia</th>\n",
       "      <td>5</td>\n",
       "    </tr>\n",
       "    <tr>\n",
       "      <th>Slovenia</th>\n",
       "      <td>2</td>\n",
       "    </tr>\n",
       "    <tr>\n",
       "      <th>South Africa</th>\n",
       "      <td>91</td>\n",
       "    </tr>\n",
       "    <tr>\n",
       "      <th>Spain</th>\n",
       "      <td>1244</td>\n",
       "    </tr>\n",
       "    <tr>\n",
       "      <th>Sri Lanka</th>\n",
       "      <td>105</td>\n",
       "    </tr>\n",
       "    <tr>\n",
       "      <th>Sudan</th>\n",
       "      <td>1</td>\n",
       "    </tr>\n",
       "    <tr>\n",
       "      <th>Suriname</th>\n",
       "      <td>3</td>\n",
       "    </tr>\n",
       "    <tr>\n",
       "      <th>Swaziland</th>\n",
       "      <td>1</td>\n",
       "    </tr>\n",
       "    <tr>\n",
       "      <th>Sweden</th>\n",
       "      <td>25</td>\n",
       "    </tr>\n",
       "    <tr>\n",
       "      <th>Switzerland</th>\n",
       "      <td>291</td>\n",
       "    </tr>\n",
       "    <tr>\n",
       "      <th>Taiwan, Province of China</th>\n",
       "      <td>10</td>\n",
       "    </tr>\n",
       "    <tr>\n",
       "      <th>Tanzania, United Republic of</th>\n",
       "      <td>1</td>\n",
       "    </tr>\n",
       "    <tr>\n",
       "      <th>Thailand</th>\n",
       "      <td>296</td>\n",
       "    </tr>\n",
       "    <tr>\n",
       "      <th>Togo</th>\n",
       "      <td>3</td>\n",
       "    </tr>\n",
       "    <tr>\n",
       "      <th>Trinidad and Tobago</th>\n",
       "      <td>4</td>\n",
       "    </tr>\n",
       "    <tr>\n",
       "      <th>Tunisia</th>\n",
       "      <td>110</td>\n",
       "    </tr>\n",
       "    <tr>\n",
       "      <th>Turkey</th>\n",
       "      <td>221</td>\n",
       "    </tr>\n",
       "    <tr>\n",
       "      <th>Uganda</th>\n",
       "      <td>5</td>\n",
       "    </tr>\n",
       "    <tr>\n",
       "      <th>Ukraine</th>\n",
       "      <td>9</td>\n",
       "    </tr>\n",
       "    <tr>\n",
       "      <th>United Kingdom</th>\n",
       "      <td>489</td>\n",
       "    </tr>\n",
       "    <tr>\n",
       "      <th>United States</th>\n",
       "      <td>268</td>\n",
       "    </tr>\n",
       "    <tr>\n",
       "      <th>Uruguay</th>\n",
       "      <td>23</td>\n",
       "    </tr>\n",
       "    <tr>\n",
       "      <th>Viet Nam</th>\n",
       "      <td>134</td>\n",
       "    </tr>\n",
       "    <tr>\n",
       "      <th>Zimbabwe</th>\n",
       "      <td>3</td>\n",
       "    </tr>\n",
       "  </tbody>\n",
       "</table>\n",
       "<p>130 rows × 1 columns</p>\n",
       "</div>"
      ],
      "text/plain": [
       "                                       Import count\n",
       "origins                                            \n",
       "Algeria                                          35\n",
       "Argentina                                       145\n",
       "Australia                                        46\n",
       "Austria                                          37\n",
       "Bangladesh                                        4\n",
       "Belgium                                         303\n",
       "Benin                                             1\n",
       "Bolivia, Plurinational State of                  66\n",
       "Brazil                                          140\n",
       "Bulgaria                                         25\n",
       "Burkina Faso                                     16\n",
       "Burundi                                           2\n",
       "Cambodia                                         16\n",
       "Cameroon                                          8\n",
       "Canada                                          138\n",
       "Chile                                           113\n",
       "China                                           277\n",
       "Colombia                                         36\n",
       "Comoros                                           2\n",
       "Congo                                             1\n",
       "Congo, The Democratic Republic of the             1\n",
       "Costa Rica                                       43\n",
       "Croatia                                           1\n",
       "Cuba                                             15\n",
       "Cyprus                                            5\n",
       "Côte d'Ivoire                                    48\n",
       "Denmark                                          28\n",
       "Dominican Republic                               90\n",
       "Ecuador                                         209\n",
       "Egypt                                            23\n",
       "...                                             ...\n",
       "Sao Tome and Principe                             3\n",
       "Saudi Arabia                                      3\n",
       "Senegal                                           6\n",
       "Serbia                                           10\n",
       "Seychelles                                        9\n",
       "Singapore                                         8\n",
       "Slovakia                                          5\n",
       "Slovenia                                          2\n",
       "South Africa                                     91\n",
       "Spain                                          1244\n",
       "Sri Lanka                                       105\n",
       "Sudan                                             1\n",
       "Suriname                                          3\n",
       "Swaziland                                         1\n",
       "Sweden                                           25\n",
       "Switzerland                                     291\n",
       "Taiwan, Province of China                        10\n",
       "Tanzania, United Republic of                      1\n",
       "Thailand                                        296\n",
       "Togo                                              3\n",
       "Trinidad and Tobago                               4\n",
       "Tunisia                                         110\n",
       "Turkey                                          221\n",
       "Uganda                                            5\n",
       "Ukraine                                           9\n",
       "United Kingdom                                  489\n",
       "United States                                   268\n",
       "Uruguay                                          23\n",
       "Viet Nam                                        134\n",
       "Zimbabwe                                          3\n",
       "\n",
       "[130 rows x 1 columns]"
      ]
     },
     "execution_count": 91,
     "metadata": {},
     "output_type": "execute_result"
    }
   ],
   "source": [
    "ti"
   ]
  },
  {
   "cell_type": "markdown",
   "metadata": {},
   "source": [
    "Here, we will visualize the origins and destinations, for the top 15 countries in the destinations. We chose to represent this information as a heatmap. \n",
    "For each pair of countries, we compute the number of food products for that pair and add one to the corresponding cell in a matrix representing those pairs.\n",
    "\n",
    "After the matrix is filled with the counts of the different pairs, we use the `heatmap()` function of Seaborn to visualize the results."
   ]
  },
  {
   "cell_type": "code",
   "execution_count": 10,
   "metadata": {},
   "outputs": [],
   "source": [
    "def compute_heatmap(df, countries):\n",
    "    \"\"\"Given a dataframe, compute a \n",
    "    heatmap matrix for import-export\n",
    "    analysis of the given countries\"\"\"\n",
    "    \n",
    "    # Create the matrix that will contain the counts\n",
    "    matrix = pd.DataFrame(np.zeros((countries.size, countries.size)), index=countries, columns=countries)\n",
    "\n",
    "    # Fill in the matrix (for the top countries)\n",
    "    for idx, row in df.iterrows():\n",
    "        origin = row['origins']\n",
    "        destination = row['countries_en']\n",
    "        if destination in countries and origin in countries:\n",
    "            matrix.at[origin, destination] += 1\n",
    "    return matrix"
   ]
  },
  {
   "cell_type": "code",
   "execution_count": 11,
   "metadata": {},
   "outputs": [],
   "source": [
    "def plot_heatmap(matrix):\n",
    "    \"\"\"Plot the given matrix as a heatmap\"\"\"\n",
    "    \n",
    "    # Create subplots\n",
    "    f, (ax1, ax2) = plt.subplots(1, 2, figsize=(18, 6))\n",
    "\n",
    "    # Use Seaborn to plot a heatmap using the matrix\n",
    "    sns.heatmap(matrix, linewidth=0.5, cmap='Reds', ax=ax1)\n",
    "    ax1.set_ylabel('Origin Country')\n",
    "    ax1.set_xlabel('Destination Country')\n",
    "\n",
    "    # Plot again in log scale\n",
    "    sns.heatmap(np.log(matrix+1), linewidth=0.5, cmap='Reds', ax=ax2)\n",
    "    ax2.set_ylabel('Origin Country')\n",
    "    ax2.set_xlabel('Destination Country')\n",
    "\n",
    "    f.suptitle('Import-Export count between countries')\n",
    "    plt.show()"
   ]
  },
  {
   "cell_type": "code",
   "execution_count": 12,
   "metadata": {},
   "outputs": [
    {
     "data": {
      "image/png": "[encoded data removed]",
      "text/plain": [
       "<Figure size 1296x432 with 4 Axes>"
      ]
     },
     "metadata": {},
     "output_type": "display_data"
    }
   ],
   "source": [
    "plot_heatmap(compute_heatmap(df_with_origins, top_15))"
   ]
  },
  {
   "cell_type": "markdown",
   "metadata": {},
   "source": [
    "As France has a count that is a lot larger, we also plotted on the right with a log scale to get better insights. What we see from this plot is very interesting. \n",
    "\n",
    "With this dataset, it looks like many countries actually produce their own food (look at the diagonal). Again, as France has always more data in this dataset, we see that France import and export to many countries. This may definitely be biased, and that's why we prefer to focus also on the other countries.\n",
    "\n",
    "Spain, Mexico, Australia and UK also produce a lot of their own food. As big exporters, we spot Spain, Germany, Italy, which makes sense for Europe, and we have the US for the American countries. As importers, the plot suggests that Germany, Switzerland, Australia and UK are the main ones."
   ]
  },
  {
   "cell_type": "markdown",
   "metadata": {},
   "source": [
    "**Which countries sell what? (in terms of composition)**"
   ]
  },
  {
   "cell_type": "markdown",
   "metadata": {},
   "source": [
    "In this part, we focus on an interesting analysis that aim to see which are the top countries that eat with the biggest number of additives, the most quantity of sugar, salt, fat or proteins.\n",
    "\n",
    "This may be a good indicator of the quality of the products sold in our top countries. Are they healthy or not?"
   ]
  },
  {
   "cell_type": "markdown",
   "metadata": {},
   "source": [
    "In order to compute that, we will make use of the columns below, reunited in a list called `composition_cols`. Here again, we will need to use the countries where the products are sold."
   ]
  },
  {
   "cell_type": "code",
   "execution_count": 92,
   "metadata": {},
   "outputs": [],
   "source": [
    "# Get the columns we need to do the analysis\n",
    "composition_cols = ['additives_n', 'fat_100g', 'carbohydrates_100g', 'sugars_100g', \n",
    "                    'proteins_100g', 'salt_100g']"
   ]
  },
  {
   "cell_type": "code",
   "execution_count": 93,
   "metadata": {},
   "outputs": [
    {
     "data": {
      "image/png": "[encoded data removed]",
      "text/plain": [
       "<Figure size 1440x2520 with 6 Axes>"
      ]
     },
     "metadata": {
      "needs_background": "light"
     },
     "output_type": "display_data"
    }
   ],
   "source": [
    "# Create subplot for the visualization\n",
    "f, axarr = plt.subplots(len(composition_cols), 1, figsize=(20, 35))\n",
    "\n",
    "# For each composition property (sugar, fat, ...)\n",
    "for i, comp in enumerate(composition_cols):\n",
    "    \n",
    "    # Get the composition we want\n",
    "    df_temp = df_with_countries[['countries_en', comp]]\n",
    "    \n",
    "    # We remove incorrect values for \"_100g\" columns\n",
    "    if comp != 'additives_n':\n",
    "        df_temp = df_temp[df_temp[comp] < 100]\n",
    "    \n",
    "    # We group by country, and compute the mean for the columns we need\n",
    "    df_temp = df_temp.groupby('countries_en').mean()\n",
    "    \n",
    "    # Plot a bar chart for our top 15 countries\n",
    "    df_temp.loc[top_15].sort_values(by=comp, ascending=False).plot(kind='bar', legend=None,\n",
    "                                                        color='orange', rot=0, ax=axarr[i])\n",
    "    \n",
    "    # Get the name of the column without the \"_100g\" or \"_n\"\n",
    "    comp_name = comp.split('_', 1)[0]\n",
    "    \n",
    "    # Set the axis titles depending on the columns\n",
    "    if comp == 'additives_n':\n",
    "        axarr[i].set_ylabel('Number of additives')\n",
    "    else:\n",
    "        axarr[i].set_ylabel('Number of grams of ' + comp_name + ' per 100g')\n",
    "        \n",
    "    # Set the title of the plots\n",
    "    axarr[i].set_title('Average quantity of ' + comp_name + ' for the top countries')\n",
    "\n",
    "plt.show()"
   ]
  },
  {
   "cell_type": "markdown",
   "metadata": {},
   "source": [
    "It is hard to get any conclusions at this point, but we can see for example that in terms of sugar, the US has the largest amount.\n",
    "\n",
    "For the salt, Romania is clearly first, and interestingly, the countries with the biggest quantities are mainly those from America. Does this imply that countries from America have products that are less healthy?\n",
    "\n",
    "Again, it is hard to conclude yet, but the bar charts show interesting results. We believe that it will be easier to get more insights when we will have the visualization on the world map."
   ]
  },
  {
   "cell_type": "markdown",
   "metadata": {},
   "source": [
    "## Stats per country"
   ]
  },
  {
   "cell_type": "markdown",
   "metadata": {},
   "source": [
    "**Nutrition facts**"
   ]
  },
  {
   "cell_type": "code",
   "execution_count": 94,
   "metadata": {},
   "outputs": [
    {
     "data": {
      "text/plain": [
       "['additives_n',\n",
       " 'fat_100g',\n",
       " 'carbohydrates_100g',\n",
       " 'sugars_100g',\n",
       " 'proteins_100g',\n",
       " 'salt_100g']"
      ]
     },
     "execution_count": 94,
     "metadata": {},
     "output_type": "execute_result"
    }
   ],
   "source": [
    "composition_cols"
   ]
  },
  {
   "cell_type": "code",
   "execution_count": 95,
   "metadata": {},
   "outputs": [],
   "source": [
    "def drop_outliers(df, column, min_value, max_value):\n",
    "    df = df.dropna(subset=[column])\n",
    "    df = df[(df[column] <= max_value) & (df[column] >= min_value)]\n",
    "    return df"
   ]
  },
  {
   "cell_type": "code",
   "execution_count": 96,
   "metadata": {},
   "outputs": [],
   "source": [
    "def compute_stats_per_country(df, column, min_value, max_value):\n",
    "    df = drop_outliers(df, column, min_value, max_value)\n",
    "    df_stats = df[['countries_a3', column]].groupby('countries_a3').describe()\n",
    "    return df_stats"
   ]
  },
  {
   "cell_type": "code",
   "execution_count": 97,
   "metadata": {},
   "outputs": [],
   "source": [
    "def format_for_choropleth(df, column, min_count=0):\n",
    "    df = df[column].reset_index().dropna(subset=['mean'])\n",
    "    return df[df['count'] >= min_count]"
   ]
  },
  {
   "cell_type": "code",
   "execution_count": 98,
   "metadata": {},
   "outputs": [],
   "source": [
    "frames = []\n",
    "for col in composition_cols:\n",
    "    frames.append(compute_stats_per_country(df_with_countries, col, 0, 100))\n",
    "\n",
    "df_nutrition = pd.concat(frames, axis=1, sort=True)\n",
    "df_nutrition.index = df_nutrition.index.map(lambda a3 : a3.upper())"
   ]
  },
  {
   "cell_type": "markdown",
   "metadata": {},
   "source": [
    "**Packaging and labels**"
   ]
  },
  {
   "cell_type": "markdown",
   "metadata": {},
   "source": [
    "Recall the packagings and the labels of interest."
   ]
  },
  {
   "cell_type": "code",
   "execution_count": 99,
   "metadata": {},
   "outputs": [],
   "source": [
    "packagings_of_interest = ['plastic', 'cardboard', 'glass', 'metal']\n",
    "labels_of_interest = ['organic', 'vegan', 'gluten_free', 'halal', 'fair_trade']"
   ]
  },
  {
   "cell_type": "markdown",
   "metadata": {},
   "source": [
    "We have defined a function to compute the proportion of products with a specified packaging or label, for a specified country. It also returns the number of products with non-nan entry for the corresponding column (`labels` or `packaging`) so that later on we do not display countries with not enough data samples."
   ]
  },
  {
   "cell_type": "code",
   "execution_count": 100,
   "metadata": {},
   "outputs": [],
   "source": [
    "def proportion(df, country_a3, category, kind): # Result is a percentage\n",
    "    df_country = df[df['countries_a3'] == country_a3]\n",
    "    df_country = df_country.dropna(subset=[category])\n",
    "    \n",
    "    if kind == 'plastic':\n",
    "        quantity = plastic_packaging(df_country).size\n",
    "    elif kind == 'cardboard':\n",
    "        quantity = cardboard_packaging(df_country).size\n",
    "    elif kind == 'glass':\n",
    "        quantity = glass_packaging(df_country).size\n",
    "    elif kind == 'metal':\n",
    "        quantity = glass_packaging(df_country).size\n",
    "    elif kind == 'organic':\n",
    "        quantity = organic_label(df_country).size\n",
    "    elif kind == 'vegan':\n",
    "        quantity = vegan_label(df_country).size\n",
    "    elif kind == 'gluten_free':\n",
    "        quantity = gluten_free_label(df_country).size\n",
    "    elif kind == 'halal':\n",
    "        quantity = halal_label(df_country).size\n",
    "    elif kind == 'fair_trade':\n",
    "        quantity = fair_trade_label(df_country).size\n",
    "        \n",
    "    return df_country.size, (quantity * 100 / df_country.size)"
   ]
  },
  {
   "cell_type": "code",
   "execution_count": 101,
   "metadata": {},
   "outputs": [],
   "source": [
    "keys = np.unique(df_with_countries['countries_a3'].values)"
   ]
  },
  {
   "cell_type": "code",
   "execution_count": 102,
   "metadata": {},
   "outputs": [],
   "source": [
    "def compute_proportion_per_country(df, kind, category):\n",
    "    proportions = []\n",
    "    for key in keys:\n",
    "        proportions.append(proportion(df_with_countries, key, kind, category))\n",
    "        \n",
    "    columns = pd.MultiIndex(levels=[[category], ['count', 'mean']], labels=[[0, 0], [0, 1]])\n",
    "    return pd.DataFrame(proportions, keys, columns=columns)"
   ]
  },
  {
   "cell_type": "code",
   "execution_count": 103,
   "metadata": {},
   "outputs": [
    {
     "name": "stderr",
     "output_type": "stream",
     "text": [
      "/home/adirlou/.local/lib/python3.6/site-packages/ipykernel/__main__.py:24: RuntimeWarning: invalid value encountered in long_scalars\n"
     ]
    }
   ],
   "source": [
    "frames = []\n",
    "for packaging in packagings_of_interest:\n",
    "    frames.append(compute_proportion_per_country(df_with_countries, 'packaging', packaging))\n",
    "    \n",
    "for label in labels_of_interest:\n",
    "    frames.append(compute_proportion_per_country(df_with_countries, 'labels', label))\n",
    "\n",
    "df_proportions = pd.concat(frames, axis=1, sort=True)\n",
    "df_proportions.index = df_proportions.index.map(lambda a3 : a3.upper())"
   ]
  },
  {
   "cell_type": "markdown",
   "metadata": {},
   "source": [
    "## Map visualizations"
   ]
  },
  {
   "cell_type": "code",
   "execution_count": 104,
   "metadata": {},
   "outputs": [
    {
     "ename": "FileNotFoundError",
     "evalue": "[Errno 2] No such file or directory: 'data/world_low.geo.json'",
     "output_type": "error",
     "traceback": [
      "\u001b[0;31m---------------------------------------------------------------------------\u001b[0m",
      "\u001b[0;31mFileNotFoundError\u001b[0m                         Traceback (most recent call last)",
      "\u001b[0;32m<ipython-input-104-fb860530596d>\u001b[0m in \u001b[0;36m<module>\u001b[0;34m()\u001b[0m\n\u001b[0;32m----> 1\u001b[0;31m \u001b[0mgeo_json_data\u001b[0m \u001b[0;34m=\u001b[0m \u001b[0mjson\u001b[0m\u001b[0;34m.\u001b[0m\u001b[0mload\u001b[0m\u001b[0;34m(\u001b[0m\u001b[0mopen\u001b[0m\u001b[0;34m(\u001b[0m\u001b[0mDATA_FOLDER\u001b[0m \u001b[0;34m+\u001b[0m \u001b[0;34m'world_low.geo.json'\u001b[0m\u001b[0;34m)\u001b[0m\u001b[0;34m)\u001b[0m\u001b[0;34m\u001b[0m\u001b[0m\n\u001b[0m\u001b[1;32m      2\u001b[0m \u001b[0;34m\u001b[0m\u001b[0m\n\u001b[1;32m      3\u001b[0m europe_countries = folium.GeoJson(\n\u001b[1;32m      4\u001b[0m     \u001b[0mgeo_json_data\u001b[0m\u001b[0;34m,\u001b[0m\u001b[0;34m\u001b[0m\u001b[0m\n\u001b[1;32m      5\u001b[0m     \u001b[0mname\u001b[0m\u001b[0;34m=\u001b[0m\u001b[0;34m'geojson'\u001b[0m\u001b[0;34m\u001b[0m\u001b[0m\n",
      "\u001b[0;31mFileNotFoundError\u001b[0m: [Errno 2] No such file or directory: 'data/world_low.geo.json'"
     ]
    }
   ],
   "source": [
    "geo_json_data = json.load(open(DATA_FOLDER + 'world_low.geo.json'))\n",
    "\n",
    "europe_countries = folium.GeoJson(\n",
    "    geo_json_data,\n",
    "    name='geojson'\n",
    ")"
   ]
  },
  {
   "cell_type": "code",
   "execution_count": 106,
   "metadata": {},
   "outputs": [],
   "source": [
    "# Draw the choropleth\n",
    "\n",
    "def draw_choropleth(df, column, min_count, title):\n",
    "    m = folium.Map(\n",
    "        location=[46.8, 8.2],\n",
    "        tiles='cartodbpositron',\n",
    "        zoom_start=2\n",
    "    )\n",
    "\n",
    "    m.choropleth(geo_data=geo_json_data,\n",
    "        data=format_for_choropleth(df, column, min_count), \n",
    "        name=title,\n",
    "        columns=['index', 'mean'], key_on='feature.properties.adm0_a3',\n",
    "        fill_color='OrRd', fill_opacity=0.5, line_opacity=0.2,\n",
    "        nan_fill_opacity=0,\n",
    "        legend_name=title\n",
    "    )\n",
    "    \n",
    "    return m"
   ]
  },
  {
   "cell_type": "code",
   "execution_count": null,
   "metadata": {},
   "outputs": [],
   "source": [
    "display(draw_choropleth(df_nutrition, 'additives_n', 100, 'Average proportion of sugars in the food products (%)'))"
   ]
  },
  {
   "cell_type": "code",
   "execution_count": 107,
   "metadata": {},
   "outputs": [
    {
     "ename": "NameError",
     "evalue": "name 'geo_json_data' is not defined",
     "output_type": "error",
     "traceback": [
      "\u001b[0;31m---------------------------------------------------------------------------\u001b[0m",
      "\u001b[0;31mNameError\u001b[0m                                 Traceback (most recent call last)",
      "\u001b[0;32m<ipython-input-107-e8886cc12446>\u001b[0m in \u001b[0;36m<module>\u001b[0;34m()\u001b[0m\n\u001b[0;32m----> 1\u001b[0;31m \u001b[0mdisplay\u001b[0m\u001b[0;34m(\u001b[0m\u001b[0mdraw_choropleth\u001b[0m\u001b[0;34m(\u001b[0m\u001b[0mdf_proportions\u001b[0m\u001b[0;34m,\u001b[0m \u001b[0;34m'organic'\u001b[0m\u001b[0;34m,\u001b[0m \u001b[0;36m1000\u001b[0m\u001b[0;34m,\u001b[0m \u001b[0;34m'Organic products (%)'\u001b[0m\u001b[0;34m)\u001b[0m\u001b[0;34m)\u001b[0m\u001b[0;34m\u001b[0m\u001b[0m\n\u001b[0m",
      "\u001b[0;32m<ipython-input-106-0771203d41a3>\u001b[0m in \u001b[0;36mdraw_choropleth\u001b[0;34m(df, column, min_count, title)\u001b[0m\n\u001b[1;32m      8\u001b[0m     )\n\u001b[1;32m      9\u001b[0m \u001b[0;34m\u001b[0m\u001b[0m\n\u001b[0;32m---> 10\u001b[0;31m     m.choropleth(geo_data=geo_json_data,\n\u001b[0m\u001b[1;32m     11\u001b[0m         \u001b[0mdata\u001b[0m\u001b[0;34m=\u001b[0m\u001b[0mformat_for_choropleth\u001b[0m\u001b[0;34m(\u001b[0m\u001b[0mdf\u001b[0m\u001b[0;34m,\u001b[0m \u001b[0mcolumn\u001b[0m\u001b[0;34m,\u001b[0m \u001b[0mmin_count\u001b[0m\u001b[0;34m)\u001b[0m\u001b[0;34m,\u001b[0m\u001b[0;34m\u001b[0m\u001b[0m\n\u001b[1;32m     12\u001b[0m         \u001b[0mname\u001b[0m\u001b[0;34m=\u001b[0m\u001b[0mtitle\u001b[0m\u001b[0;34m,\u001b[0m\u001b[0;34m\u001b[0m\u001b[0m\n",
      "\u001b[0;31mNameError\u001b[0m: name 'geo_json_data' is not defined"
     ]
    }
   ],
   "source": [
    "display(draw_choropleth(df_proportions, 'organic', 1000, 'Organic products (%)'))"
   ]
  },
  {
   "cell_type": "markdown",
   "metadata": {},
   "source": [
    "### Plans for the next steps of the project"
   ]
  },
  {
   "cell_type": "markdown",
   "metadata": {},
   "source": [
    "**Plans for Milestone 3**"
   ]
  },
  {
   "cell_type": "markdown",
   "metadata": {},
   "source": [
    "We have chosen the pdf report for the final submission.\n",
    "\n",
    "For the 3rd milestone, we mainly plan to:\n",
    "\n",
    "- Work on the formatting of `packaging` (in order to have everything in the same language, and matching precise names, like we did for the countries) &rarr; For the 2nd of December.\n",
    "\n",
    "- Add visualization part (world map) For each country we plan to display some nutritional information about its products (from the columns of the form `information_100g`) &rarr; For the 2nd of December.\n",
    "\n",
    "- Make some analysis on more labels (among vegan, gluten-free, halal and fair-trade) &rarr; For the 7th of December.\n",
    "\n",
    "- Perform the machine learning part with the images for the organic products (to see if there are recurrent patterns or dominant colors) &rarr; For the 7th of December\n",
    "\n",
    "***Note that we already created a script in order to download the images of products with the organic label. It can be found in the file `images_download.py`.***\n",
    "\n",
    "- Complete the report &rarr; For the 14th of December\n",
    "\n",
    "- Review our report before the final submission and enhance it &rarr; For the 16th of December\n"
   ]
  },
  {
   "cell_type": "markdown",
   "metadata": {},
   "source": [
    "**Plans for the presentation**\n",
    "\n",
    "For the presentation, we plan to:\n",
    "\n",
    "- Give an introduction about the problem of how the food travels, packaging issues and nutrition concerns.\n",
    "\n",
    "- Explain what our project was about (where the food comes from, organic products, packaging & nutritional values)\n",
    "\n",
    "- Show and explain the different insights we got together with the maps of the world\n",
    "\n",
    "- Show the machine learning part and indicate the patterns and dominant colors we found for the organic products"
   ]
  }
 ],
 "metadata": {
  "kernelspec": {
   "display_name": "Python [default]",
   "language": "python",
   "name": "python3"
  },
  "language_info": {
   "codemirror_mode": {
    "name": "ipython",
    "version": 3
   },
   "file_extension": ".py",
   "mimetype": "text/x-python",
   "name": "python",
   "nbconvert_exporter": "python",
   "pygments_lexer": "ipython3",
   "version": "3.6.5"
  }
 },
 "nbformat": 4,
 "nbformat_minor": 2
}
