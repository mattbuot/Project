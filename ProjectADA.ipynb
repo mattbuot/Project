{
 "cells": [
  {
   "cell_type": "markdown",
   "metadata": {},
   "source": [
    "## Project ADA Milestone 2: Exploratory Analysis"
   ]
  },
  {
   "cell_type": "markdown",
   "metadata": {},
   "source": [
    "**Importing libraries**"
   ]
  },
  {
   "cell_type": "markdown",
   "metadata": {},
   "source": [
    "For this Milestone, we mainly used Pandas in order to do exploratory analysis. For mathematical operations, and arrays, we used NumPy, and finally for plotting we used Matplotlib and Seaborn. We also used the re library when using regular expression to filter some values."
   ]
  },
  {
   "cell_type": "code",
   "execution_count": 92,
   "metadata": {},
   "outputs": [],
   "source": [
    "import pandas as pd\n",
    "import numpy as np\n",
    "import matplotlib.pyplot as plt\n",
    "import seaborn as sns\n",
    "import re"
   ]
  },
  {
   "cell_type": "markdown",
   "metadata": {},
   "source": [
    "**Loading the dataset**"
   ]
  },
  {
   "cell_type": "code",
   "execution_count": 93,
   "metadata": {},
   "outputs": [],
   "source": [
    "df = pd.read_csv('en.openfoodfacts.org.products.csv', sep=\"\\t\", encoding=\"utf-8\", low_memory=False)"
   ]
  },
  {
   "cell_type": "code",
   "execution_count": 94,
   "metadata": {},
   "outputs": [
    {
     "data": {
      "text/html": [
       "<div>\n",
       "<style scoped>\n",
       "    .dataframe tbody tr th:only-of-type {\n",
       "        vertical-align: middle;\n",
       "    }\n",
       "\n",
       "    .dataframe tbody tr th {\n",
       "        vertical-align: top;\n",
       "    }\n",
       "\n",
       "    .dataframe thead th {\n",
       "        text-align: right;\n",
       "    }\n",
       "</style>\n",
       "<table border=\"1\" class=\"dataframe\">\n",
       "  <thead>\n",
       "    <tr style=\"text-align: right;\">\n",
       "      <th></th>\n",
       "      <th>code</th>\n",
       "      <th>url</th>\n",
       "      <th>creator</th>\n",
       "      <th>created_t</th>\n",
       "      <th>created_datetime</th>\n",
       "      <th>last_modified_t</th>\n",
       "      <th>last_modified_datetime</th>\n",
       "      <th>product_name</th>\n",
       "      <th>generic_name</th>\n",
       "      <th>quantity</th>\n",
       "      <th>...</th>\n",
       "      <th>carbon-footprint_100g</th>\n",
       "      <th>nutrition-score-fr_100g</th>\n",
       "      <th>nutrition-score-uk_100g</th>\n",
       "      <th>glycemic-index_100g</th>\n",
       "      <th>water-hardness_100g</th>\n",
       "      <th>choline_100g</th>\n",
       "      <th>phylloquinone_100g</th>\n",
       "      <th>beta-glucan_100g</th>\n",
       "      <th>inositol_100g</th>\n",
       "      <th>carnitine_100g</th>\n",
       "    </tr>\n",
       "  </thead>\n",
       "  <tbody>\n",
       "    <tr>\n",
       "      <th>0</th>\n",
       "      <td>0000000000017</td>\n",
       "      <td>http://world-en.openfoodfacts.org/product/0000...</td>\n",
       "      <td>kiliweb</td>\n",
       "      <td>1529059080</td>\n",
       "      <td>2018-06-15T10:38:00Z</td>\n",
       "      <td>1529059204</td>\n",
       "      <td>2018-06-15T10:40:04Z</td>\n",
       "      <td>Vitória crackers</td>\n",
       "      <td>NaN</td>\n",
       "      <td>NaN</td>\n",
       "      <td>...</td>\n",
       "      <td>NaN</td>\n",
       "      <td>NaN</td>\n",
       "      <td>NaN</td>\n",
       "      <td>NaN</td>\n",
       "      <td>NaN</td>\n",
       "      <td>NaN</td>\n",
       "      <td>NaN</td>\n",
       "      <td>NaN</td>\n",
       "      <td>NaN</td>\n",
       "      <td>NaN</td>\n",
       "    </tr>\n",
       "    <tr>\n",
       "      <th>1</th>\n",
       "      <td>0000000000031</td>\n",
       "      <td>http://world-en.openfoodfacts.org/product/0000...</td>\n",
       "      <td>isagoofy</td>\n",
       "      <td>1539464774</td>\n",
       "      <td>2018-10-13T21:06:14Z</td>\n",
       "      <td>1539464817</td>\n",
       "      <td>2018-10-13T21:06:57Z</td>\n",
       "      <td>Cacao</td>\n",
       "      <td>NaN</td>\n",
       "      <td>130 g</td>\n",
       "      <td>...</td>\n",
       "      <td>NaN</td>\n",
       "      <td>NaN</td>\n",
       "      <td>NaN</td>\n",
       "      <td>NaN</td>\n",
       "      <td>NaN</td>\n",
       "      <td>NaN</td>\n",
       "      <td>NaN</td>\n",
       "      <td>NaN</td>\n",
       "      <td>NaN</td>\n",
       "      <td>NaN</td>\n",
       "    </tr>\n",
       "    <tr>\n",
       "      <th>2</th>\n",
       "      <td>0000000000123</td>\n",
       "      <td>http://world-en.openfoodfacts.org/product/0000...</td>\n",
       "      <td>kiliweb</td>\n",
       "      <td>1535737982</td>\n",
       "      <td>2018-08-31T17:53:02Z</td>\n",
       "      <td>1535737986</td>\n",
       "      <td>2018-08-31T17:53:06Z</td>\n",
       "      <td>Sauce Sweety chili 0%</td>\n",
       "      <td>NaN</td>\n",
       "      <td>NaN</td>\n",
       "      <td>...</td>\n",
       "      <td>NaN</td>\n",
       "      <td>NaN</td>\n",
       "      <td>NaN</td>\n",
       "      <td>NaN</td>\n",
       "      <td>NaN</td>\n",
       "      <td>NaN</td>\n",
       "      <td>NaN</td>\n",
       "      <td>NaN</td>\n",
       "      <td>NaN</td>\n",
       "      <td>NaN</td>\n",
       "    </tr>\n",
       "    <tr>\n",
       "      <th>3</th>\n",
       "      <td>0000000000291</td>\n",
       "      <td>http://world-en.openfoodfacts.org/product/0000...</td>\n",
       "      <td>kiliweb</td>\n",
       "      <td>1534239669</td>\n",
       "      <td>2018-08-14T09:41:09Z</td>\n",
       "      <td>1534239732</td>\n",
       "      <td>2018-08-14T09:42:12Z</td>\n",
       "      <td>Mendiants</td>\n",
       "      <td>NaN</td>\n",
       "      <td>NaN</td>\n",
       "      <td>...</td>\n",
       "      <td>NaN</td>\n",
       "      <td>NaN</td>\n",
       "      <td>NaN</td>\n",
       "      <td>NaN</td>\n",
       "      <td>NaN</td>\n",
       "      <td>NaN</td>\n",
       "      <td>NaN</td>\n",
       "      <td>NaN</td>\n",
       "      <td>NaN</td>\n",
       "      <td>NaN</td>\n",
       "    </tr>\n",
       "    <tr>\n",
       "      <th>4</th>\n",
       "      <td>0000000000949</td>\n",
       "      <td>http://world-en.openfoodfacts.org/product/0000...</td>\n",
       "      <td>kiliweb</td>\n",
       "      <td>1523440813</td>\n",
       "      <td>2018-04-11T10:00:13Z</td>\n",
       "      <td>1523440823</td>\n",
       "      <td>2018-04-11T10:00:23Z</td>\n",
       "      <td>Salade de carottes râpées</td>\n",
       "      <td>NaN</td>\n",
       "      <td>NaN</td>\n",
       "      <td>...</td>\n",
       "      <td>NaN</td>\n",
       "      <td>NaN</td>\n",
       "      <td>NaN</td>\n",
       "      <td>NaN</td>\n",
       "      <td>NaN</td>\n",
       "      <td>NaN</td>\n",
       "      <td>NaN</td>\n",
       "      <td>NaN</td>\n",
       "      <td>NaN</td>\n",
       "      <td>NaN</td>\n",
       "    </tr>\n",
       "  </tbody>\n",
       "</table>\n",
       "<p>5 rows × 173 columns</p>\n",
       "</div>"
      ],
      "text/plain": [
       "            code                                                url   creator  \\\n",
       "0  0000000000017  http://world-en.openfoodfacts.org/product/0000...   kiliweb   \n",
       "1  0000000000031  http://world-en.openfoodfacts.org/product/0000...  isagoofy   \n",
       "2  0000000000123  http://world-en.openfoodfacts.org/product/0000...   kiliweb   \n",
       "3  0000000000291  http://world-en.openfoodfacts.org/product/0000...   kiliweb   \n",
       "4  0000000000949  http://world-en.openfoodfacts.org/product/0000...   kiliweb   \n",
       "\n",
       "    created_t      created_datetime last_modified_t last_modified_datetime  \\\n",
       "0  1529059080  2018-06-15T10:38:00Z      1529059204   2018-06-15T10:40:04Z   \n",
       "1  1539464774  2018-10-13T21:06:14Z      1539464817   2018-10-13T21:06:57Z   \n",
       "2  1535737982  2018-08-31T17:53:02Z      1535737986   2018-08-31T17:53:06Z   \n",
       "3  1534239669  2018-08-14T09:41:09Z      1534239732   2018-08-14T09:42:12Z   \n",
       "4  1523440813  2018-04-11T10:00:13Z      1523440823   2018-04-11T10:00:23Z   \n",
       "\n",
       "                product_name generic_name quantity      ...        \\\n",
       "0           Vitória crackers          NaN      NaN      ...         \n",
       "1                      Cacao          NaN    130 g      ...         \n",
       "2      Sauce Sweety chili 0%          NaN      NaN      ...         \n",
       "3                  Mendiants          NaN      NaN      ...         \n",
       "4  Salade de carottes râpées          NaN      NaN      ...         \n",
       "\n",
       "  carbon-footprint_100g nutrition-score-fr_100g nutrition-score-uk_100g  \\\n",
       "0                   NaN                     NaN                     NaN   \n",
       "1                   NaN                     NaN                     NaN   \n",
       "2                   NaN                     NaN                     NaN   \n",
       "3                   NaN                     NaN                     NaN   \n",
       "4                   NaN                     NaN                     NaN   \n",
       "\n",
       "  glycemic-index_100g water-hardness_100g choline_100g phylloquinone_100g  \\\n",
       "0                 NaN                 NaN          NaN                NaN   \n",
       "1                 NaN                 NaN          NaN                NaN   \n",
       "2                 NaN                 NaN          NaN                NaN   \n",
       "3                 NaN                 NaN          NaN                NaN   \n",
       "4                 NaN                 NaN          NaN                NaN   \n",
       "\n",
       "  beta-glucan_100g inositol_100g carnitine_100g  \n",
       "0              NaN           NaN            NaN  \n",
       "1              NaN           NaN            NaN  \n",
       "2              NaN           NaN            NaN  \n",
       "3              NaN           NaN            NaN  \n",
       "4              NaN           NaN            NaN  \n",
       "\n",
       "[5 rows x 173 columns]"
      ]
     },
     "execution_count": 94,
     "metadata": {},
     "output_type": "execute_result"
    }
   ],
   "source": [
    "df.head()"
   ]
  },
  {
   "cell_type": "markdown",
   "metadata": {},
   "source": [
    "We see from here that there is a lot of information, and it seems that there is a lot of NaN values for certain columns."
   ]
  },
  {
   "cell_type": "markdown",
   "metadata": {},
   "source": [
    "More precisely, we can compute the number of columns in the dataframe:"
   ]
  },
  {
   "cell_type": "code",
   "execution_count": 95,
   "metadata": {},
   "outputs": [
    {
     "name": "stdout",
     "output_type": "stream",
     "text": [
      "Number of columns in the DataFrame: 173\n"
     ]
    }
   ],
   "source": [
    "print('Number of columns in the DataFrame:', df.columns.size)"
   ]
  },
  {
   "cell_type": "markdown",
   "metadata": {},
   "source": [
    "There are many features, but we definitely won't work with all of them for the purpose of this project."
   ]
  },
  {
   "cell_type": "markdown",
   "metadata": {},
   "source": [
    "As we explore the dataset, we will only keep a few columns from all those we have at our disposal."
   ]
  },
  {
   "cell_type": "markdown",
   "metadata": {},
   "source": [
    "**NaN proportion for each column**"
   ]
  },
  {
   "cell_type": "markdown",
   "metadata": {},
   "source": [
    "As mentioned earlier, it looks like there are many NaN values. Let's see that. Here we compute the proportion of NaN values for each columns, and only plot the columns that have less than 50% of NaNs."
   ]
  },
  {
   "cell_type": "code",
   "execution_count": 97,
   "metadata": {},
   "outputs": [
    {
     "name": "stdout",
     "output_type": "stream",
     "text": [
      "Number of columns that have a proportion of NaN less than 50%:  30 / 173 columns.\n"
     ]
    },
    {
     "data": {
      "image/png": "[encoded data removed]",
      "text/plain": [
       "<Figure size 1080x360 with 1 Axes>"
      ]
     },
     "metadata": {
      "needs_background": "light"
     },
     "output_type": "display_data"
    }
   ],
   "source": [
    "# Compute the proportion of NaN per column\n",
    "nan_proportion = df.isnull().mean(axis=0)\n",
    "\n",
    "# Store the columns for which there is less than 50% of NaN\n",
    "nan_proportion_50 = nan_proportion[nan_proportion<0.5]\n",
    "print('Number of columns that have a proportion of NaN less than 50%: ', \n",
    "      nan_proportion_50.size, '/', df.columns.size, 'columns.')\n",
    "\n",
    "# Plot\n",
    "plt.figure(figsize=(15, 5))\n",
    "nan_proportion_50.plot(kind='bar', color='orange')\n",
    "plt.title('Proportion of NaN for different columns')\n",
    "\n",
    "plt.show()"
   ]
  },
  {
   "cell_type": "markdown",
   "metadata": {},
   "source": [
    "Quite surprising! Actually, only 30 columns are more than half filled on the 173 that we have at our disposal. This suggest that maybe we will need to review some of things we planned to do because of the missing values. Indeed, if a huge amount of values are missing, we won't get very precise insights about the data for these columns."
   ]
  },
  {
   "cell_type": "markdown",
   "metadata": {},
   "source": [
    "**Choosing the columns to keep**"
   ]
  },
  {
   "cell_type": "markdown",
   "metadata": {},
   "source": [
    "Now let's see with what columns we are going to work with. Of course, we keep the information about the products such as the name, brand, url. \n",
    "\n",
    "Then we also want to keep the information about the countries, packaging and labels, since it was one of the main focus of the project.\n",
    "\n",
    "We will also keep all those related to the composition of the products(serving quantity, additives, fat, sugar, ...) as it will help us get insights about which country eats what.\n",
    "\n"
   ]
  },
  {
   "cell_type": "code",
   "execution_count": 99,
   "metadata": {},
   "outputs": [],
   "source": [
    "# Columns that we keep for the exploratory analysis\n",
    "cols = ['product_name', 'url', 'brands_tags', 'countries_en', 'origins', 'serving_quantity', 'additives_n', \n",
    "        'fat_100g', 'carbohydrates_100g', 'sugars_100g', \n",
    "       'proteins_100g', 'salt_100g', 'labels', 'packaging']"
   ]
  },
  {
   "cell_type": "code",
   "execution_count": 101,
   "metadata": {},
   "outputs": [],
   "source": [
    "# Filter to only keep the columns we need\n",
    "df = df[cols]\n",
    "\n",
    "# For columns that contain strings, set all characters to lower\n",
    "df['countries_en'] = df['countries_en'].str.lower()\n",
    "df['origins'] = df['origins'].str.lower()\n",
    "df['packaging'] = df['packaging'].str.lower()"
   ]
  },
  {
   "cell_type": "code",
   "execution_count": 102,
   "metadata": {},
   "outputs": [],
   "source": [
    "def without_nan(df, column):\n",
    "    return df[~df[column].isnull()]"
   ]
  },
  {
   "cell_type": "code",
   "execution_count": 103,
   "metadata": {},
   "outputs": [],
   "source": [
    "def splitDataFrameList(df, target_column, separator):\n",
    "    \"\"\"df = dataframe to split,\n",
    "    target_column = the column containing the values to split\n",
    "    separator = the symbol used to perform the split\n",
    "\n",
    "    returns: a dataframe with each entry for the target column separated, with each element moved into a new row. \n",
    "    The values in the other columns are duplicated across the newly divided rows.\n",
    "    \"\"\"\n",
    "    def splitListToRows(row, row_accumulator, target_column, separator):\n",
    "        split_row = row[target_column].split(separator)\n",
    "        for s in split_row:\n",
    "            new_row = row.to_dict()\n",
    "            new_row[target_column] = s\n",
    "            row_accumulator.append(new_row)\n",
    "    new_rows = []\n",
    "    df.apply(splitListToRows,axis=1,args = (new_rows,target_column,separator))\n",
    "    new_df = pd.DataFrame(new_rows)\n",
    "    return new_df"
   ]
  },
  {
   "cell_type": "markdown",
   "metadata": {},
   "source": [
    "**Import - Export**"
   ]
  },
  {
   "cell_type": "markdown",
   "metadata": {},
   "source": [
    "As a first analysis, we will try to visualize which countries import and export, for the main countries in the dataset."
   ]
  },
  {
   "cell_type": "markdown",
   "metadata": {},
   "source": [
    "First, we split the 'countries' and 'origins' columns, since they may contain more than one country."
   ]
  },
  {
   "cell_type": "code",
   "execution_count": 104,
   "metadata": {},
   "outputs": [],
   "source": [
    "df = splitDataFrameList(without_nan(df, 'countries_en'), 'countries_en', ',')\n",
    "df = splitDataFrameList(without_nan(df, 'origins'), 'origins', ',')"
   ]
  },
  {
   "cell_type": "code",
   "execution_count": 105,
   "metadata": {},
   "outputs": [
    {
     "name": "stdout",
     "output_type": "stream",
     "text": [
      "New shape of our DataFrame: (60114, 16)\n"
     ]
    }
   ],
   "source": [
    "print('New shape of our DataFrame:', df.shape)"
   ]
  },
  {
   "cell_type": "markdown",
   "metadata": {},
   "source": [
    "As we can see, we end up with quite a lot more data when splitting to get all the countries."
   ]
  },
  {
   "cell_type": "markdown",
   "metadata": {},
   "source": [
    "Now let's get the destination and origin countries for the products, and try to first visualize which are the top destination countries:"
   ]
  },
  {
   "cell_type": "code",
   "execution_count": 128,
   "metadata": {},
   "outputs": [],
   "source": [
    "dest_count = df['countries_en'].value_counts()"
   ]
  },
  {
   "cell_type": "markdown",
   "metadata": {},
   "source": [
    "We plot below the top-25 destination countries. Note that since France has a significantly higher number of products (this is a french dataset), we also plot in the log scale."
   ]
  },
  {
   "cell_type": "code",
   "execution_count": 129,
   "metadata": {},
   "outputs": [
    {
     "data": {
      "image/png": "[encoded data removed]",
      "text/plain": [
       "<Figure size 1296x504 with 2 Axes>"
      ]
     },
     "metadata": {
      "needs_background": "light"
     },
     "output_type": "display_data"
    }
   ],
   "source": [
    "# Create subplots\n",
    "f, (ax1, ax2) = plt.subplots(1, 2, figsize=(18, 7))\n",
    "\n",
    "# Plot the count of the products for each destination country\n",
    "dest_count[:25].plot(kind='barh', color='orange', ax=ax1)\n",
    "ax1.set_xlabel('Number of products')\n",
    "\n",
    "# Plot again in log scale\n",
    "dest_count[:25].plot(kind='barh', color='orange', ax=ax2, log=True)\n",
    "ax2.set_xlabel('Number of products (log scale)')\n",
    "\n",
    "f.suptitle('Number of products in the dataset, per country')\n",
    "plt.show()"
   ]
  },
  {
   "cell_type": "markdown",
   "metadata": {},
   "source": [
    "Not surprinsingly, the top countries are mainly those from Europe (again, the dataset focuses a lot on France and Europe), but we can also see the US abd Mexico for example."
   ]
  },
  {
   "cell_type": "markdown",
   "metadata": {},
   "source": [
    "In the remaining part of the notebook, we decided to focus our analysis on the countries that have the most products in their inventory.<br/>\n",
    "So we will keep those top countries, and we will do the analyses on the first 15."
   ]
  },
  {
   "cell_type": "code",
   "execution_count": 108,
   "metadata": {},
   "outputs": [],
   "source": [
    "top_15 = dest_count[:15].index"
   ]
  },
  {
   "cell_type": "markdown",
   "metadata": {},
   "source": [
    "Here, we will visualize the origins and destinations, for the top 15 countries. We chose to represent this information as a heatmap. \n",
    "For each pair of countries, we compute the number of food products for that pair and add one to the corresponding cell in a matrix representing those pairs.\n",
    "\n",
    "After the matrix is filled with the counts of the different pairs, we use the heatmap() function of Seaborn to visualize the results."
   ]
  },
  {
   "cell_type": "code",
   "execution_count": 135,
   "metadata": {},
   "outputs": [],
   "source": [
    "def compute_heatmap(df):\n",
    "    \"\"\"Given a dataframe, compute a \n",
    "    heatmap matrix for import-export\n",
    "    analysis\"\"\"\n",
    "    \n",
    "    # Create the matrix that will contain the counts\n",
    "    matrix = pd.DataFrame(np.zeros((15, 15)), index=top_15, columns=top_15)\n",
    "\n",
    "    # Fill in the matrix (for the top countries)\n",
    "    for idx, row in df.iterrows():\n",
    "        origin = row['origins']\n",
    "        destination = row['countries_en']\n",
    "        if destination in top_15 and origin in top_15:\n",
    "            matrix.at[origin, destination] += 1\n",
    "    return matrix"
   ]
  },
  {
   "cell_type": "code",
   "execution_count": 131,
   "metadata": {},
   "outputs": [],
   "source": [
    "def plot_heatmap(matrix):\n",
    "    \"\"\"Plot the given matrix as a heatmap\"\"\"\n",
    "    \n",
    "    # Create subplots\n",
    "    f, (ax1, ax2) = plt.subplots(1, 2, figsize=(18, 6))\n",
    "\n",
    "    # Use Seaborn to plot a heatmap using the matrix\n",
    "    sns.heatmap(matrix, linewidth=0.5, cmap='Reds', ax=ax1)\n",
    "    ax1.set_ylabel('Origin Country')\n",
    "    ax1.set_xlabel('Destination Country')\n",
    "\n",
    "    # Plot again in log scale\n",
    "    sns.heatmap(np.log(matrix+1), linewidth=0.5, cmap='Reds', ax=ax2)\n",
    "    ax2.set_ylabel('Origin Country')\n",
    "    ax2.set_xlabel('Destination Country')\n",
    "\n",
    "    f.suptitle('Import-Export count between countries')\n",
    "    plt.show()"
   ]
  },
  {
   "cell_type": "code",
   "execution_count": 132,
   "metadata": {},
   "outputs": [
    {
     "data": {
      "image/png": "[encoded data removed]",
      "text/plain": [
       "<Figure size 1296x432 with 4 Axes>"
      ]
     },
     "metadata": {
      "needs_background": "light"
     },
     "output_type": "display_data"
    }
   ],
   "source": [
    "plot_heatmap(compute_heatmap(df))"
   ]
  },
  {
   "cell_type": "markdown",
   "metadata": {},
   "source": [
    "As France has a count that is a lot larger, we also plotted on the right with a log scale to get better insights. What we see from this plot is very interesting. \n",
    "\n",
    "With this dataset, it looks like many countries actually produce their own food. Again, as France has always more data in this dataset, we see that France import and export to many countries. This may definitely be biased, and that's why we prefer to focus also on the other countries.\n",
    "\n",
    "Australia and UK also produce a lot of their own food. As big exporters, we spot Spain, Germany, Italy and Portugal, which makes sens for Europe. As importers, the plot suggests that Germany, Switzerland, Australia and UK are the main ones."
   ]
  },
  {
   "cell_type": "markdown",
   "metadata": {},
   "source": [
    "**Additives per country**"
   ]
  },
  {
   "cell_type": "markdown",
   "metadata": {},
   "source": [
    "In this part, we focus on an interesting analysis that aim to see which are the countries that eat with the biggest number of additives."
   ]
  },
  {
   "cell_type": "markdown",
   "metadata": {},
   "source": [
    "In order to compute that, we will make use of the 'additives_n' columns, and again the data about the countries."
   ]
  },
  {
   "cell_type": "code",
   "execution_count": 122,
   "metadata": {},
   "outputs": [],
   "source": [
    "additives_mean = df.groupby('countries_en').mean()['proteins_100g']"
   ]
  },
  {
   "cell_type": "code",
   "execution_count": 123,
   "metadata": {},
   "outputs": [
    {
     "data": {
      "image/png": "[encoded data removed]",
      "text/plain": [
       "<Figure size 1440x360 with 1 Axes>"
      ]
     },
     "metadata": {
      "needs_background": "light"
     },
     "output_type": "display_data"
    }
   ],
   "source": [
    "additives_mean.loc[top_15].sort_values(ascending=False).plot(kind='bar', color='orange', figsize=(20, 5), rot=0)\n",
    "plt.ylabel('Number of additives')\n",
    "plt.title('Average number of additives for the top countries')\n",
    "plt.show()"
   ]
  },
  {
   "cell_type": "markdown",
   "metadata": {},
   "source": [
    "**Packaging and BIO label**"
   ]
  },
  {
   "cell_type": "markdown",
   "metadata": {},
   "source": [
    "In this part, we'll try to see what type of packages is the most used throughout the world. We will then have a look at the most used packages in each of our top 15 countries."
   ]
  },
  {
   "cell_type": "markdown",
   "metadata": {},
   "source": [
    "First, we compute, in percentage, the most used packages and plot the top 10."
   ]
  },
  {
   "cell_type": "code",
   "execution_count": 16,
   "metadata": {},
   "outputs": [],
   "source": [
    "df = splitDataFrameList(without_nan(df, 'packaging'), 'packaging', ',')"
   ]
  },
  {
   "cell_type": "code",
   "execution_count": 81,
   "metadata": {},
   "outputs": [],
   "source": [
    "def plot_most_used_packaging(df):\n",
    "    most_used_packaging = df.groupby('packaging').size().sort_values(ascending=False)\n",
    "    most_used_packaging /= most_used_packaging.sum()\n",
    "\n",
    "    most_used_packaging[:10].plot(kind='barh', color='orange')\n",
    "\n",
    "    plt.xlabel('Proportion (in %)')\n",
    "    plt.show()"
   ]
  },
  {
   "cell_type": "code",
   "execution_count": 82,
   "metadata": {},
   "outputs": [
    {
     "data": {
      "image/png": "[encoded data removed]",
      "text/plain": [
       "<Figure size 432x288 with 1 Axes>"
      ]
     },
     "metadata": {
      "needs_background": "light"
     },
     "output_type": "display_data"
    }
   ],
   "source": [
    "plot_most_used_packaging(df)"
   ]
  },
  {
   "cell_type": "markdown",
   "metadata": {},
   "source": [
    "The name of the types of packages are in French, but what we see is that we mostly use plastic. In second place we have the paperbox, and after we see glass and bottles. \n",
    "\n",
    "(Again here, we ask the reader to keep in mind that this is a French dataset, and so it may not reflect the actual worldwide trends.)"
   ]
  },
  {
   "cell_type": "markdown",
   "metadata": {},
   "source": [
    "Let's see now, for each of our top countries, the two types of packages they use the most:"
   ]
  },
  {
   "cell_type": "code",
   "execution_count": 90,
   "metadata": {},
   "outputs": [],
   "source": [
    "def display_top2_packages(df):\n",
    "    \"\"\"Display the 2 most used packages\n",
    "    for the top 15 countries\"\"\"\n",
    "    \n",
    "    # First group by country and packaging, then get frequency of packaging and sort these\n",
    "    most_used_packaging_per_country = df.groupby(['countries_en', 'packaging']) \\\n",
    "                                        .size() \\\n",
    "                                        .sort_values() \\\n",
    "                                        .groupby(level=0) \\\n",
    "                                        .tail(2)\n",
    "    \n",
    "    # Return a dataframe with the country names sorted\n",
    "    return pd.DataFrame(most_used_packaging_per_country.loc[top_15]) \\\n",
    "                    .drop(columns=0, axis=1) \\\n",
    "                    .sort_values('countries_en')"
   ]
  },
  {
   "cell_type": "code",
   "execution_count": 89,
   "metadata": {},
   "outputs": [
    {
     "data": {
      "text/html": [
       "<div>\n",
       "<style scoped>\n",
       "    .dataframe tbody tr th:only-of-type {\n",
       "        vertical-align: middle;\n",
       "    }\n",
       "\n",
       "    .dataframe tbody tr th {\n",
       "        vertical-align: top;\n",
       "    }\n",
       "\n",
       "    .dataframe thead th {\n",
       "        text-align: right;\n",
       "    }\n",
       "</style>\n",
       "<table border=\"1\" class=\"dataframe\">\n",
       "  <thead>\n",
       "    <tr style=\"text-align: right;\">\n",
       "      <th></th>\n",
       "      <th></th>\n",
       "    </tr>\n",
       "    <tr>\n",
       "      <th>countries_en</th>\n",
       "      <th>packaging</th>\n",
       "    </tr>\n",
       "  </thead>\n",
       "  <tbody>\n",
       "    <tr>\n",
       "      <th rowspan=\"2\" valign=\"top\">australia</th>\n",
       "      <th>plastic</th>\n",
       "    </tr>\n",
       "    <tr>\n",
       "      <th>box</th>\n",
       "    </tr>\n",
       "    <tr>\n",
       "      <th rowspan=\"2\" valign=\"top\">belgium</th>\n",
       "      <th>plastique</th>\n",
       "    </tr>\n",
       "    <tr>\n",
       "      <th>carton</th>\n",
       "    </tr>\n",
       "    <tr>\n",
       "      <th rowspan=\"2\" valign=\"top\">brazil</th>\n",
       "      <th>garrafa</th>\n",
       "    </tr>\n",
       "    <tr>\n",
       "      <th>pacote</th>\n",
       "    </tr>\n",
       "    <tr>\n",
       "      <th rowspan=\"2\" valign=\"top\">canada</th>\n",
       "      <th>plastique</th>\n",
       "    </tr>\n",
       "    <tr>\n",
       "      <th>frais</th>\n",
       "    </tr>\n",
       "    <tr>\n",
       "      <th rowspan=\"2\" valign=\"top\">france</th>\n",
       "      <th>plastique</th>\n",
       "    </tr>\n",
       "    <tr>\n",
       "      <th>carton</th>\n",
       "    </tr>\n",
       "    <tr>\n",
       "      <th rowspan=\"2\" valign=\"top\">germany</th>\n",
       "      <th>kunststoff</th>\n",
       "    </tr>\n",
       "    <tr>\n",
       "      <th>glas</th>\n",
       "    </tr>\n",
       "    <tr>\n",
       "      <th rowspan=\"2\" valign=\"top\">italy</th>\n",
       "      <th>plastica</th>\n",
       "    </tr>\n",
       "    <tr>\n",
       "      <th>carta</th>\n",
       "    </tr>\n",
       "    <tr>\n",
       "      <th rowspan=\"2\" valign=\"top\">mexico</th>\n",
       "      <th>botella de plastico</th>\n",
       "    </tr>\n",
       "    <tr>\n",
       "      <th>plastico</th>\n",
       "    </tr>\n",
       "    <tr>\n",
       "      <th rowspan=\"2\" valign=\"top\">portugal</th>\n",
       "      <th>cartão</th>\n",
       "    </tr>\n",
       "    <tr>\n",
       "      <th>plástico</th>\n",
       "    </tr>\n",
       "    <tr>\n",
       "      <th rowspan=\"2\" valign=\"top\">romania</th>\n",
       "      <th>pet</th>\n",
       "    </tr>\n",
       "    <tr>\n",
       "      <th>folie alimentara</th>\n",
       "    </tr>\n",
       "    <tr>\n",
       "      <th rowspan=\"2\" valign=\"top\">spain</th>\n",
       "      <th>bolsa de plástico</th>\n",
       "    </tr>\n",
       "    <tr>\n",
       "      <th>refrigerado</th>\n",
       "    </tr>\n",
       "    <tr>\n",
       "      <th rowspan=\"2\" valign=\"top\">sweden</th>\n",
       "      <th>carton</th>\n",
       "    </tr>\n",
       "    <tr>\n",
       "      <th>plastic</th>\n",
       "    </tr>\n",
       "    <tr>\n",
       "      <th rowspan=\"2\" valign=\"top\">switzerland</th>\n",
       "      <th>carton</th>\n",
       "    </tr>\n",
       "    <tr>\n",
       "      <th>plastique</th>\n",
       "    </tr>\n",
       "    <tr>\n",
       "      <th rowspan=\"2\" valign=\"top\">united kingdom</th>\n",
       "      <th>plastic</th>\n",
       "    </tr>\n",
       "    <tr>\n",
       "      <th>plastique</th>\n",
       "    </tr>\n",
       "    <tr>\n",
       "      <th rowspan=\"2\" valign=\"top\">united states</th>\n",
       "      <th>bottle</th>\n",
       "    </tr>\n",
       "    <tr>\n",
       "      <th>plastic</th>\n",
       "    </tr>\n",
       "  </tbody>\n",
       "</table>\n",
       "</div>"
      ],
      "text/plain": [
       "Empty DataFrame\n",
       "Columns: []\n",
       "Index: [(australia, plastic), (australia, box), (belgium, plastique), (belgium, carton), (brazil, garrafa), (brazil, pacote), (canada, plastique), (canada, frais), (france, plastique), (france, carton), (germany, kunststoff), (germany, glas), (italy, plastica), (italy, carta), (mexico, botella de plastico), (mexico, plastico), (portugal, cartão), (portugal, plástico), (romania, pet), (romania, folie alimentara), (spain, bolsa de plástico), (spain, refrigerado), (sweden, carton), (sweden, plastic), (switzerland, carton), (switzerland, plastique), (united kingdom, plastic), (united kingdom, plastique), (united states, bottle), (united states, plastic)]"
      ]
     },
     "execution_count": 89,
     "metadata": {},
     "output_type": "execute_result"
    }
   ],
   "source": [
    "display_top2_packages(df)"
   ]
  },
  {
   "cell_type": "markdown",
   "metadata": {},
   "source": [
    "Not surprisingly, most of them use plastic the most. The only country that doesn't report plastic directly is Romania, which have plastic foil and Pet."
   ]
  },
  {
   "cell_type": "markdown",
   "metadata": {},
   "source": [
    "An interesting question to ask is \"Do we see the same trend when filtering and only keeping the products labeled as BIO?\".\n",
    "\n",
    "This is what we will do just below. But first, we need to define what a bio product is. For that, the column `labels` will be useful, since it contains all the information we need to only keep the BIO products.\n",
    "\n",
    "So using that column, we keep the products that contain labels such as \"bio\", \"organic\" or \"AB\". All these refer to product that are supposed to be biological. We use regular expression to filter out the products."
   ]
  },
  {
   "cell_type": "code",
   "execution_count": 17,
   "metadata": {},
   "outputs": [],
   "source": [
    "# Select products with an organic label\n",
    "label_bio = df[\n",
    "    df['labels'].str.contains(\"Bio\", na = False, flags = re.IGNORECASE)\n",
    "  | df['labels'].str.contains(\"Organic\", na = False, flags = re.IGNORECASE)\n",
    "  |  df['labels'].str.contains(\"\\bAB\\b\", na = False, flags = re.IGNORECASE)\n",
    "    ]"
   ]
  },
  {
   "cell_type": "markdown",
   "metadata": {},
   "source": [
    "We plot again to get the proportion of the top 10 types of packaging:"
   ]
  },
  {
   "cell_type": "code",
   "execution_count": 83,
   "metadata": {},
   "outputs": [
    {
     "data": {
      "image/png": "[encoded data removed]",
      "text/plain": [
       "<Figure size 432x288 with 1 Axes>"
      ]
     },
     "metadata": {
      "needs_background": "light"
     },
     "output_type": "display_data"
    }
   ],
   "source": [
    "plot_most_used_packaging(label_bio)"
   ]
  },
  {
   "cell_type": "markdown",
   "metadata": {},
   "source": [
    "Not quite what we would have like to find out! It seems like plastic is still the most used. But let's check the 2 most used packages for BIO products for our top 15."
   ]
  },
  {
   "cell_type": "code",
   "execution_count": 86,
   "metadata": {},
   "outputs": [
    {
     "data": {
      "text/html": [
       "<div>\n",
       "<style scoped>\n",
       "    .dataframe tbody tr th:only-of-type {\n",
       "        vertical-align: middle;\n",
       "    }\n",
       "\n",
       "    .dataframe tbody tr th {\n",
       "        vertical-align: top;\n",
       "    }\n",
       "\n",
       "    .dataframe thead th {\n",
       "        text-align: right;\n",
       "    }\n",
       "</style>\n",
       "<table border=\"1\" class=\"dataframe\">\n",
       "  <thead>\n",
       "    <tr style=\"text-align: right;\">\n",
       "      <th></th>\n",
       "      <th></th>\n",
       "    </tr>\n",
       "    <tr>\n",
       "      <th>countries_en</th>\n",
       "      <th>packaging</th>\n",
       "    </tr>\n",
       "  </thead>\n",
       "  <tbody>\n",
       "    <tr>\n",
       "      <th rowspan=\"2\" valign=\"top\">australia</th>\n",
       "      <th>plastic</th>\n",
       "    </tr>\n",
       "    <tr>\n",
       "      <th>plastic bottle</th>\n",
       "    </tr>\n",
       "    <tr>\n",
       "      <th rowspan=\"2\" valign=\"top\">belgium</th>\n",
       "      <th>carton</th>\n",
       "    </tr>\n",
       "    <tr>\n",
       "      <th>verre</th>\n",
       "    </tr>\n",
       "    <tr>\n",
       "      <th rowspan=\"2\" valign=\"top\">brazil</th>\n",
       "      <th>métal</th>\n",
       "    </tr>\n",
       "    <tr>\n",
       "      <th>verre</th>\n",
       "    </tr>\n",
       "    <tr>\n",
       "      <th rowspan=\"2\" valign=\"top\">canada</th>\n",
       "      <th>sous-vide</th>\n",
       "    </tr>\n",
       "    <tr>\n",
       "      <th>sac</th>\n",
       "    </tr>\n",
       "    <tr>\n",
       "      <th rowspan=\"2\" valign=\"top\">france</th>\n",
       "      <th>plastique</th>\n",
       "    </tr>\n",
       "    <tr>\n",
       "      <th>carton</th>\n",
       "    </tr>\n",
       "    <tr>\n",
       "      <th rowspan=\"2\" valign=\"top\">germany</th>\n",
       "      <th>kunststoff</th>\n",
       "    </tr>\n",
       "    <tr>\n",
       "      <th>glas</th>\n",
       "    </tr>\n",
       "    <tr>\n",
       "      <th rowspan=\"2\" valign=\"top\">italy</th>\n",
       "      <th>plastica</th>\n",
       "    </tr>\n",
       "    <tr>\n",
       "      <th>tubo di plastica pp5</th>\n",
       "    </tr>\n",
       "    <tr>\n",
       "      <th>mexico</th>\n",
       "      <th>plástico</th>\n",
       "    </tr>\n",
       "    <tr>\n",
       "      <th rowspan=\"2\" valign=\"top\">portugal</th>\n",
       "      <th>plástico</th>\n",
       "    </tr>\n",
       "    <tr>\n",
       "      <th>tetra pak</th>\n",
       "    </tr>\n",
       "    <tr>\n",
       "      <th rowspan=\"2\" valign=\"top\">romania</th>\n",
       "      <th>tetra pak</th>\n",
       "    </tr>\n",
       "    <tr>\n",
       "      <th>pahar plastic</th>\n",
       "    </tr>\n",
       "    <tr>\n",
       "      <th rowspan=\"2\" valign=\"top\">spain</th>\n",
       "      <th>refrigerado</th>\n",
       "    </tr>\n",
       "    <tr>\n",
       "      <th>bolsa de plástico</th>\n",
       "    </tr>\n",
       "    <tr>\n",
       "      <th rowspan=\"2\" valign=\"top\">sweden</th>\n",
       "      <th>carton</th>\n",
       "    </tr>\n",
       "    <tr>\n",
       "      <th>plastic</th>\n",
       "    </tr>\n",
       "    <tr>\n",
       "      <th rowspan=\"2\" valign=\"top\">switzerland</th>\n",
       "      <th>carton</th>\n",
       "    </tr>\n",
       "    <tr>\n",
       "      <th>plastique</th>\n",
       "    </tr>\n",
       "    <tr>\n",
       "      <th rowspan=\"2\" valign=\"top\">united kingdom</th>\n",
       "      <th>chilled</th>\n",
       "    </tr>\n",
       "    <tr>\n",
       "      <th>plastic</th>\n",
       "    </tr>\n",
       "    <tr>\n",
       "      <th rowspan=\"2\" valign=\"top\">united states</th>\n",
       "      <th>plastic</th>\n",
       "    </tr>\n",
       "    <tr>\n",
       "      <th>bag</th>\n",
       "    </tr>\n",
       "  </tbody>\n",
       "</table>\n",
       "</div>"
      ],
      "text/plain": [
       "Empty DataFrame\n",
       "Columns: []\n",
       "Index: [(australia, plastic), (australia, plastic bottle), (belgium, carton), (belgium, verre), (brazil, métal), (brazil, verre), (canada, sous-vide), (canada, sac), (france, plastique), (france, carton), (germany, kunststoff), (germany, glas), (italy, plastica), (italy, tubo di plastica pp5), (mexico, plástico), (portugal, plástico), (portugal, tetra pak), (romania, tetra pak), (romania, pahar plastic), (spain, refrigerado), (spain, bolsa de plástico), (sweden, carton), (sweden, plastic), (switzerland, carton), (switzerland, plastique), (united kingdom, chilled), (united kingdom, plastic), (united states, plastic), (united states, bag)]"
      ]
     },
     "execution_count": 86,
     "metadata": {},
     "output_type": "execute_result"
    }
   ],
   "source": [
    "display_top2_packages(label_bio)"
   ]
  },
  {
   "cell_type": "markdown",
   "metadata": {},
   "source": [
    "Quite different! Indeed, there is actually still a lot of plastic, but we can see packaging like tetrapack or paperbox, which are a lot better for the environment."
   ]
  },
  {
   "cell_type": "markdown",
   "metadata": {},
   "source": [
    "**Are the BIO produts local?**"
   ]
  },
  {
   "cell_type": "markdown",
   "metadata": {},
   "source": [
    "Finally, we use the heatmap function of the import export to see for our top 15 countries wether for the BIO products, they are actually local."
   ]
  },
  {
   "cell_type": "code",
   "execution_count": 134,
   "metadata": {},
   "outputs": [
    {
     "data": {
      "image/png": "[encoded data removed]",
      "text/plain": [
       "<Figure size 1296x432 with 4 Axes>"
      ]
     },
     "metadata": {
      "needs_background": "light"
     },
     "output_type": "display_data"
    }
   ],
   "source": [
    "plot_heatmap(compute_heatmap(label_bio))"
   ]
  },
  {
   "cell_type": "markdown",
   "metadata": {},
   "source": [
    "Again, if we don't look at France here, we can see that most country eat BIO product that come from within the country (look at the diagonal on the heatmap). But we also see that not all of them eat local. For example, Mexico, Italy, or the US don't seem to do it.\n",
    "\n",
    "We see that Italy export a lot of its BIO products to countries in Europe."
   ]
  },
  {
   "cell_type": "markdown",
   "metadata": {},
   "source": [
    "**Plans for Milestone 3**"
   ]
  },
  {
   "cell_type": "markdown",
   "metadata": {},
   "source": [
    "For the 3rd milestone, we mainly plan to:\n",
    "\n",
    "- Add visualization part (world map, with the information we got from this milestone) &rarr; For the 2nd of December\n",
    "\n",
    "- Perform the machine learning part with the images for the BIO products (to see if there are recurrent patterns or dominant colors) &rarr; For the 7th of December\n",
    "\n",
    "- Choose between data story or report and complete it &rarr; For the 14th of December\n",
    "\n",
    "- Complete the missing parts and prepare for the final submission &rarr; For the 16th of December\n"
   ]
  },
  {
   "cell_type": "markdown",
   "metadata": {},
   "source": [
    "**Plans for the presentation**\n",
    "\n",
    "For the presentation, we plan to:\n",
    "\n",
    "- Give an introduction about the problem of how the food travels, more about packaging\n",
    "\n",
    "- Explain what our project was about (where the food comes from, biological products & packaging)\n",
    "\n",
    "- Show and explain the different insights we got together with the maps of the world\n",
    "\n",
    "- Show the machine learning part and indicate the patterns and dominant colors we found for the biological products"
   ]
  }
 ],
 "metadata": {
  "kernelspec": {
   "display_name": "Python 3",
   "language": "python",
   "name": "python3"
  },
  "language_info": {
   "codemirror_mode": {
    "name": "ipython",
    "version": 3
   },
   "file_extension": ".py",
   "mimetype": "text/x-python",
   "name": "python",
   "nbconvert_exporter": "python",
   "pygments_lexer": "ipython3",
   "version": "3.6.6"
  }
 },
 "nbformat": 4,
 "nbformat_minor": 2
}
